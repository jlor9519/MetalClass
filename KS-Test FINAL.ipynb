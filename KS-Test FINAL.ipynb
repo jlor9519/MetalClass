{
 "cells": [
  {
   "cell_type": "markdown",
   "id": "f38c22da-6c62-4000-b4de-e640ee57ed54",
   "metadata": {},
   "source": [
    "# Klassifizierung mithilfe des Kolmogorov-Smirnov Tests\n",
    "Author: Jan Lorenzen <br>\n",
    "Date: 16.01.2022"
   ]
  },
  {
   "cell_type": "code",
   "execution_count": 1,
   "id": "0cabcc05-b662-4399-97e1-152d8db117a0",
   "metadata": {
    "tags": []
   },
   "outputs": [],
   "source": [
    "import pandas as pd\n",
    "import matplotlib.pyplot as plt\n",
    "import seaborn as sns\n",
    "import numpy as np\n",
    "import random as rand\n",
    "from scipy.stats import kstest, ks_2samp\n",
    "from os import listdir\n",
    "from os.path import isfile, join\n",
    "from IPython.display import clear_output"
   ]
  },
  {
   "cell_type": "code",
   "execution_count": 2,
   "id": "8f52887f-e64e-4777-a455-5c44ee3c9095",
   "metadata": {
    "tags": []
   },
   "outputs": [],
   "source": [
    "class ksClassifier:\n",
    "    \"\"\"\n",
    "    Class that uses the Kolmogorov Smirnov Test to classify different kinds of metal\n",
    "    \"\"\"\n",
    "    \n",
    "    def __init__(self, main_path: str, create_sample: bool = False, set_sample: bool = False, sample_list = [], \n",
    "                 compare_with_samples: bool = False, samples_mean_path: str = '', shuffle: bool = False, \n",
    "                 local_shuffle: bool = False, buckets: int = 2, multi_shuffle: bool = False, num_of_predictions: int = 20,\n",
    "                 area_shuffle: bool = False, area: tuple = ()):\n",
    "        \"\"\"\n",
    "        Initialize the all the variables, the DataFrame with the known materials (from main_path), create the sample arrays\n",
    "        if compare_with_samples == True and load in the sample Data, if no fixed sample array is given.\n",
    "        \n",
    "        Args:\n",
    "            main_path(str) -> the location of the materials.csv\n",
    "            create_sample(bool) -> set true if you want to create a fixed sample\n",
    "            set_sample(bool) -> set true to set a fixed sample\n",
    "            sample_list(List) -> list of your fixed sample\n",
    "            compare_with_samples(bool) -> set true if you want to compare with sample arrays\n",
    "            samples_mean_path(str) -> path to the sample arrays\n",
    "            shuffle(bool) -> set true if you want your arrays to be shuffled before prediction\n",
    "            local_shuffle(bool) -> set true if you want the array to be shuffled in even parts\n",
    "            buckets(int) -> number of even parts for the local_shuffle\n",
    "            multi_shuffle(bool) -> set true if you want to make multiple predictions with different shuffles for one material\n",
    "            num_of_predictions(int) -> how many predictions the 'multi_shuffle' should do\n",
    "            area_shuffle(bool) -> set true if you want to shuffle only one area\n",
    "            area(tuple) -> indices (start, end) for the area_shuffle\n",
    "        \"\"\"\n",
    "        self.compare_with_samples = compare_with_samples\n",
    "        self.shuffle = shuffle\n",
    "        self.local_shuffle = local_shuffle\n",
    "        self.multi_shuffle = multi_shuffle\n",
    "        self.area_shuffle = area_shuffle\n",
    "        self.create_sample = create_sample\n",
    "        self.set_sample = set_sample\n",
    "        \n",
    "        self.samples = sample_list\n",
    "        self.num_of_predictions = num_of_predictions\n",
    "        self.buckets = buckets\n",
    "        self.area = area\n",
    "        \n",
    "        self.materials = pd.read_csv(main_path, skipinitialspace=True, header=1)\n",
    "        \n",
    "        #Load comparison samples\n",
    "        if compare_with_samples:\n",
    "            self.sample_materials = self.load_samples(samples_mean_path)\n",
    "            self.samples_1sek = self.sample_materials[0]\n",
    "            self.samples_1min = self.sample_materials[1]\n",
    "            self.samples_5min = self.sample_materials[2]\n",
    "            self.samples_15min = self.sample_materials[3]\n",
    "            self.samples_1std = self.sample_materials[4]\n",
    "            self.sample_arr = [self.materials, self.samples_1sek, self.samples_1min, self.samples_5min, self.samples_15min, self.samples_1std]\n",
    "        \n",
    "        #Variables to calculate progress as percent when running the class\n",
    "        self.test_size = 0\n",
    "        self.current = 0\n",
    "        self.percent = 0\n",
    "        \n",
    "        self.acc = 0\n",
    "        \n",
    "        #read in sample files\n",
    "        if not self.set_sample:\n",
    "            self.samples = self.read_sample_files(sample_path)\n",
    "        \n",
    "        \n",
    "    def predict(self, inputs: list) -> list:\n",
    "        \"\"\"\n",
    "        Predicts what type of metal the input is / are, with help of the kstest\n",
    "        \n",
    "        Args:\n",
    "            inputs(list) -> list of Pandas Series\n",
    "            \n",
    "        Returns:\n",
    "            list -> list with the predicted labels\n",
    "        \"\"\"\n",
    "        \n",
    "        predictions = []\n",
    "        predicted = None\n",
    "        \n",
    "        #materials converted to cumulative distributions will be saved in this variable\n",
    "        cdf_inputs = inputs.copy()\n",
    "        \n",
    "        for col in cdf_inputs:\n",
    "            #if compare_with_samples is true, then load the sample array as the known material\n",
    "            #if compare_with_samples is false, then load the materials.csv as known material\n",
    "            if self.compare_with_samples:\n",
    "                predicted = self.ks_test(self.sample_arr, col)\n",
    "            else:\n",
    "                predicted = self.ks_test(self.materials, col)\n",
    "            predictions.append(predicted)\n",
    "        \n",
    "        return predictions\n",
    "    \n",
    "    \n",
    "    def test(self, sample_path: str, test_size: int = 100):\n",
    "        \"\"\"\n",
    "        Used to test this class with sample inputs\n",
    "        \n",
    "        Args:\n",
    "            sample_path(str) -> path where the sample files are located\n",
    "            test_size(int) -> size of the batch of sample datapoints\n",
    "            \n",
    "        Returns:\n",
    "            list -> list which contains three lists\n",
    "                1. test labels\n",
    "                2. predicted labels\n",
    "                3. times of the simulated data\n",
    "        \"\"\"\n",
    "        \n",
    "        self.test_size = test_size\n",
    "        self.current = 0\n",
    "        self.perc = 0\n",
    "        \n",
    "        if self.create_sample:\n",
    "            return self.create_test_data(self.samples, size=test_size)\n",
    "        elif self.set_sample:\n",
    "            X_test, y_test, times = self.samples\n",
    "        else:\n",
    "            X_test, y_test, times = self.create_test_data(self.samples, size=test_size)\n",
    "        \n",
    "        labels_pred = self.predict(inputs=X_test)\n",
    "        \n",
    "        return list((y_test, labels_pred, times))\n",
    "    \n",
    "    \n",
    "    def read_sample_files(self, path: str, alt_samples = False) -> list:\n",
    "        \"\"\"\n",
    "        Read in test files, to test this class and the algorithm\n",
    "        \n",
    "        Args:\n",
    "            path(str) -> The path of the folder, where all the sample files are located\n",
    "            \n",
    "        Returns:\n",
    "            list -> A 2d list that contrains Tuples with the form [0] = a DataFrame and [1] a label for the DataFrame\n",
    "                    example: [(Pandas DataFrame, 'Al_1'), (Pandas DataFrame, 'Cu_4'), ...]\n",
    "        \"\"\"\n",
    "        \n",
    "        # read filenames from folder \n",
    "        files = [f for f in listdir(path) if isfile(join(path, f))]\n",
    "        labels, times = self.filenames_to_labels(files)\n",
    "               \n",
    "        # mac thing, if its in filename, delete\n",
    "        if '.DS_Store' in files:\n",
    "            files.remove('.DS_Store')\n",
    "        \n",
    "        # read in all sample files as Pandas DataFrames, ignore the first 140 rows and the first 2 columns\n",
    "        if alt_samples:\n",
    "            sample_data = [pd.read_csv(path + \"/\" + elem, skipinitialspace=True).iloc[:, :].reset_index(drop=True) for elem in files]\n",
    "            return sample_data, labels, times\n",
    "        else:\n",
    "            sample_data = [pd.read_csv(path + \"/\" + elem, skipinitialspace=True).iloc[140:, 2:].reset_index(drop=True) for elem in files]\n",
    "            \n",
    "        # zip all data and labels together and return as list\n",
    "        return list(zip(sample_data, labels, times))\n",
    "    \n",
    "    \n",
    "    def filenames_to_labels(self, filenames: list) -> list:\n",
    "        \"\"\"\n",
    "        Converts the filenames of the sample files to more useful labels.\n",
    "        Sample files are in the form for example '15_min_Al_1.csv' that will convert to 'Al_1'\n",
    "        \n",
    "        Args:\n",
    "            filenames(list) -> A list of filenames\n",
    "            \n",
    "        Returns:\n",
    "            list -> list of labels\n",
    "            list -> list of sample times\n",
    "        \"\"\"\n",
    "        \n",
    "        metal_labels = ['Al_1', 'Al_2', 'Al_3', 'Al_4', 'Al_5', 'Asilikos',\n",
    "                        'Batterien', 'Cu_0', 'Cu_1', 'Cu_2', 'Cu_3', 'Cu_4', \n",
    "                        'Cu_5', 'E-Schrott', 'Erdreich_1', 'Erdreich_2', \n",
    "                        'Erz', 'Melamine', 'PVC', 'Stuckgips', 'Zement']\n",
    "        \n",
    "        label_list = []\n",
    "        time_labels = []\n",
    "        \n",
    "        for file in filenames:\n",
    "            for label in metal_labels:\n",
    "                if label in file:\n",
    "                    time = file.split('_')[0]\n",
    "                    label_list.append(label)\n",
    "                    time_labels.append(time)\n",
    "                    \n",
    "                    \n",
    "        return label_list, time_labels\n",
    "    \n",
    "    \n",
    "    def convert_to_cumulative(self, df: pd.DataFrame, columns: list = []) -> pd.DataFrame:\n",
    "        \"\"\"\n",
    "        Converts a DataFrame to its cumulative distribution\n",
    "        \n",
    "        Args:\n",
    "            df(pd.DataFrame) -> Pandas DataFrame that will be converted\n",
    "            columns(list) -> A list of columnnames\n",
    "        \n",
    "        Returns:\n",
    "            pd.DataFrame -> A new DataFrame which contains the cumulative Data\n",
    "        \"\"\"\n",
    "        \n",
    "        cumulative_data = df.copy()\n",
    "\n",
    "        # devide each cell entry by the some of its column\n",
    "        if len(columns) != 0:\n",
    "            for column in columns:\n",
    "                cumulative_data[column] = cumulative_data[column] / cumulative_data[column].sum()\n",
    "            cumulative_data = cumulative_data.iloc[:, 1:].cumsum()\n",
    "        else:\n",
    "            cumulative_data = cumulative_data / cumulative_data.sum()\n",
    "            cumulative_data = cumulative_data.cumsum()\n",
    "        \n",
    "        return cumulative_data\n",
    "    \n",
    "    \n",
    "    def load_samples(self, path: str):\n",
    "        \"\"\"\n",
    "        Load comparison samples and devide them into corresponding lists according to their sample time \n",
    "        \n",
    "        Args:\n",
    "            path(str) -> Path of the sample files\n",
    "        \n",
    "        Returns:\n",
    "            tuple -> A tuple containing sample arrays of 1sek, 1min, 5min, 15min and 1std\n",
    "        \"\"\"\n",
    "        \n",
    "        data, labels, time = self.read_sample_files(path, alt_samples = True)\n",
    "        \n",
    "        data_1sek = pd.DataFrame()\n",
    "        data_1min = pd.DataFrame()\n",
    "        data_5min = pd.DataFrame()\n",
    "        data_15min = pd.DataFrame()\n",
    "        data_1std = pd.DataFrame()\n",
    "        \n",
    "        for i in range(len(data)):\n",
    "            if time[i] == '1sek':\n",
    "                data_1sek[labels[i]] = data[i]\n",
    "            if time[i] == '1min':\n",
    "                data_1min[labels[i]] = data[i]\n",
    "            if time[i] == '5min':\n",
    "                data_5min[labels[i]] = data[i]\n",
    "            if time[i] == '15min':\n",
    "                data_15min[labels[i]] = data[i]\n",
    "            if time[i] == '1std':\n",
    "                data_1std[labels[i]] = data[i]\n",
    "         \n",
    "        return data_1sek, data_1min, data_5min, data_15min, data_1std\n",
    "        \n",
    "    def create_test_data(self, samples: list, size: int = 100) -> tuple:\n",
    "        \"\"\"\n",
    "        Creates test data, one list with metal data and one list with its corresponding labels\n",
    "        \n",
    "        Args:\n",
    "            samples -> list with Tupels in form of (Pandas DataFrame, label)\n",
    "            size -> size of the test list\n",
    "            \n",
    "        Returns:\n",
    "            Tupel -> Tupel with the sample list at index 0, label list at index 1 and sample times at index 2\n",
    "        \"\"\"\n",
    "        \n",
    "        sample_list = []\n",
    "        label_list = []\n",
    "        time_list = []\n",
    "        \n",
    "        for i in range(size):\n",
    "            random_sample = rand.choice(samples) #pick a random entry from the samples list\n",
    "            random_col_index = str(rand.randint(0,99)) #random column index\n",
    "            \n",
    "            sample_list.append(random_sample[0].loc[:, random_col_index]) #add the random sample (as Pandas Series) to the sample list\n",
    "            label_list.append(random_sample[1]) #add corresponding label to the label list\n",
    "            time_list.append(random_sample[2]) #add sample times to the time list\n",
    "        \n",
    "        return sample_list, label_list, time_list\n",
    "    \n",
    "    \n",
    "    def ks_test(self, known_material, unknown_material: pd.Series, num_of_predictions: int = 1) -> str:\n",
    "        \"\"\"\n",
    "        Uses the kstest to predict the unknown_material\n",
    "        \n",
    "        Args:\n",
    "            known_material(pd.DataFrame or list) -> known and labeled metal Data\n",
    "            unknown_material(pd.Series) -> unknown and unlabeled metal Data\n",
    "            num_of_predictions(int) -> used for the multi_shuffle\n",
    "            \n",
    "        Returns:\n",
    "            str -> a label of the material, that we predicted with the kstest\n",
    "        \"\"\"\n",
    "\n",
    "        #Calculate and print progress percent\n",
    "        self.current += 1\n",
    "        perc = self.current / self.test_size\n",
    "        clear_output(wait=True)\n",
    "        print(\"{:.2%}\".format(perc))\n",
    "        \n",
    "        #predicted material\n",
    "        material = None\n",
    "        #smallest distance will be used to update the predicted material\n",
    "        smallest_dist = 10000\n",
    "        \n",
    "        if self.compare_with_samples:\n",
    "            for frame in known_material:\n",
    "                known = frame.copy()\n",
    "                unknown = unknown_material.copy()\n",
    "\n",
    "                if self.multi_shuffle:\n",
    "                    temp_predictions = []\n",
    "                    num_of_predictions = self.num_of_predictions\n",
    "\n",
    "                for i in range(num_of_predictions):\n",
    "                    smallest_dist = 10000\n",
    "\n",
    "                    if self.shuffle or self.multi_shuffle or self.local_shuffle or self.area_shuffle:\n",
    "                        known, unknown = self.shuffle_once(known_material[0], unknown_material)\n",
    "                    else:\n",
    "                        known = self.convert_to_cumulative(known)\n",
    "                        unknown = self.convert_to_cumulative(unknown)\n",
    "\n",
    "                    for mat in known:\n",
    "                        #d_val = ks_2samp(known[mat], unknown).statistic\n",
    "                        d_val = self.ks_test_manuell(known[mat], unknown)\n",
    "                        \n",
    "                        #if the tested distance is smaller than our current largest, update the smallest distance and material\n",
    "                        if d_val < smallest_dist:\n",
    "                            smallest_dist = d_val\n",
    "                            material = mat\n",
    "\n",
    "                    if self.multi_shuffle:\n",
    "                        temp_predictions.append(material)\n",
    "\n",
    "                        if len(temp_predictions) >= 3 and (temp_predictions[i-2] == temp_predictions[i-1] == temp_predictions[i]):\n",
    "                            return temp_predictions[i]\n",
    "        \n",
    "        else:\n",
    "            known = known_material.copy()\n",
    "            unknown = unknown_material.copy()\n",
    "\n",
    "            if self.multi_shuffle:\n",
    "                temp_predictions = []\n",
    "                num_of_predictions = self.num_of_predictions\n",
    "\n",
    "            for i in range(num_of_predictions):\n",
    "                smallest_dist = 10000\n",
    "\n",
    "                if self.shuffle or self.multi_shuffle or self.local_shuffle or self.area_shuffle:\n",
    "                    known, unknown = self.shuffle_once(known_material, unknown_material)\n",
    "                else:\n",
    "                    known = self.convert_to_cumulative(known)\n",
    "                    unknown = self.convert_to_cumulative(unknown)\n",
    "\n",
    "                for mat in known:\n",
    "                    #d_val = ks_2samp(known[mat], unknown).statistic\n",
    "                    d_val = self.ks_test_manuell(known[mat], unknown)\n",
    "                    \n",
    "                    #if the tested distance is smaller than our current largest, update the smallest distance and material\n",
    "                    if d_val < smallest_dist:\n",
    "                        smallest_dist = d_val\n",
    "                        material = mat\n",
    "\n",
    "                if self.multi_shuffle:\n",
    "                    temp_predictions.append(material)\n",
    "\n",
    "                    if len(temp_predictions) >= 3 and (temp_predictions[i-2] == temp_predictions[i-1] == temp_predictions[i]):\n",
    "                        return temp_predictions[i]\n",
    "\n",
    "        return material\n",
    "    \n",
    "    \n",
    "    def mix(self, df: pd.DataFrame, mixed_index: list):\n",
    "        \"\"\"\n",
    "        shuffe a DataFrame\n",
    "        \n",
    "        Args:\n",
    "            df(pd.DataFrame) -> DataFrame to shuffle\n",
    "            mixed_index(list) -> list with shuffled indices for the new DataFrame\n",
    "            \n",
    "        Returns:\n",
    "            pd.DataFrame -> shuffled DataFrame\n",
    "        \"\"\"\n",
    "\n",
    "        mixed_data = df.copy()\n",
    "        \n",
    "        #if it's a Series, convert to DataFrame\n",
    "        if isinstance(df, pd.Series):\n",
    "            mixed_data = pd.DataFrame(df)\n",
    "        \n",
    "        mixed_data.set_index(pd.Index(mixed_index), inplace=True)\n",
    "        mixed_data.sort_index(axis=0, inplace=True)\n",
    "        \n",
    "        return mixed_data\n",
    "    \n",
    "    \n",
    "    def shuffle_once(self, known, unknown):\n",
    "        \"\"\"\n",
    "        Shuffe a known and unknown DataFrame once the exact same way, depending on method local_shuffle, area_shuffle \n",
    "        or no special method\n",
    "        \n",
    "        Args:\n",
    "            known(pd.DataFrame) -> DataFrame of the known material\n",
    "            unknown(pd.DataFrame) -> DataFrame of the unknown material\n",
    "            \n",
    "        Returns:\n",
    "            tuple -> index 0 is the known shuffled DataFrame, index 1 is the unknown shuffled DataFrame\n",
    "        \"\"\"\n",
    "        if self.local_shuffle:\n",
    "            mixed_index = self.shuffle_locale()\n",
    "        elif self.area_shuffle:\n",
    "            mixed_index = self.shuffle_area()\n",
    "        else:\n",
    "            mixed_index = [i for i in range(len(self.materials))]\n",
    "            rand.shuffle(mixed_index)\n",
    "            \n",
    "        known_shuffled = known.copy()\n",
    "        unknown_shuffled = unknown.copy()\n",
    "\n",
    "        known_shuffled = self.mix(known_shuffled, mixed_index)\n",
    "        known_shuffled = self.convert_to_cumulative(known_shuffled, known.columns[1:])\n",
    "\n",
    "        unknown_shuffled = self.mix(unknown_shuffled, mixed_index)\n",
    "        unknown_shuffled = self.convert_to_cumulative(unknown_shuffled).squeeze()\n",
    "        \n",
    "        return known_shuffled, unknown_shuffled\n",
    "    \n",
    "    def shuffle_locale(self):\n",
    "        \"\"\"\n",
    "        Create a list of indices that are shuffled in even parts\n",
    "            \n",
    "        Returns:\n",
    "            list -> shuffled indices\n",
    "        \"\"\"\n",
    "        #calculate the size of the parts\n",
    "        steps = len(self.materials) // self.buckets\n",
    "        \n",
    "        index = [i for i in range(len(self.materials))]\n",
    "        #create a nested list that consists of the parts as lists\n",
    "        index = [list(index[i : i + steps]) for i in range(0, len(self.materials), steps)]\n",
    "        \n",
    "        for elem in index:\n",
    "            rand.shuffle(elem)\n",
    "        \n",
    "        #flatten the nested lists\n",
    "        return [elem for sublist in index for elem in sublist]\n",
    "    \n",
    "    def shuffle_area(self):\n",
    "        \"\"\"\n",
    "        Shuffle only an area\n",
    "            \n",
    "        Returns:\n",
    "            list -> shuffled indices\n",
    "        \"\"\"\n",
    "        start = [i for i in range(self.area[0])]\n",
    "        middle = [i for i in range(self.area[0], self.area[1]+1)]\n",
    "        end = [i for i in range(self.area[1]+1, len(self.materials))]\n",
    "        \n",
    "        rand.shuffle(middle)\n",
    "        \n",
    "        return start + middle + end\n",
    "    \n",
    "    \n",
    "    ###################################################################################################\n",
    "    #from here, everything has to do with calculating and printing statistics\n",
    "    \n",
    "    def accuracy(self, y_true: list, y_pred: list, times: list) -> tuple:\n",
    "        \"\"\"\n",
    "        Calculates the accuracy of the predicted data\n",
    "        \n",
    "        Args:\n",
    "            y_true(list) -> list with the true labels\n",
    "            y_pred(list) -> list with the predicted labels\n",
    "            times(list) -> list with the sample times\n",
    "            \n",
    "        Returns:\n",
    "            tuple -> tuple that contains a list with the form (true labels, misclassified labels, times) at index 0 \n",
    "                     and the overall accuracy at index 1\n",
    "        \"\"\"\n",
    "        correct = 0\n",
    "        misclassified = []\n",
    "        \n",
    "        for i in range(len(y_true)):\n",
    "            if y_true[i] == y_pred[i]:\n",
    "                correct += 1\n",
    "            else:\n",
    "                misclassified.append((y_true[i], y_pred[i], times[i]))\n",
    "        \n",
    "        acc = correct / len(y_true)\n",
    "        self.acc = acc\n",
    "        \n",
    "        return (misclassified, acc)\n",
    "            \n",
    "            \n",
    "    def time_statistics(self, y_true: list, y_pred: list, times: list) -> dict:\n",
    "        \"\"\"\n",
    "        Create a dict with the correctly classified sample times\n",
    "        \n",
    "        Args:\n",
    "            y_true(list) -> true labels\n",
    "            y_pred(list) -> predicted labels\n",
    "            times(list) -> list with the sample times\n",
    "            \n",
    "        Returns:\n",
    "            dict -> a dict with the times as keys(str) and amount of correct classifications as values(ints)\n",
    "        \"\"\"\n",
    "        time_stats = dict()\n",
    "\n",
    "        time_stats['1sek'] = 0\n",
    "        time_stats['1min'] = 0\n",
    "        time_stats['5min'] = 0\n",
    "        time_stats['15min'] = 0\n",
    "        time_stats['1std'] = 0\n",
    "\n",
    "        for i in range(len(y_true)):\n",
    "            if y_true[i] == y_pred[i]:\n",
    "                if times[i] in time_stats:\n",
    "                    time_stats[times[i]] += 1\n",
    "                    \n",
    "        return time_stats\n",
    "        \n",
    "        \n",
    "    def get_full_times_dict(self, times: list) -> dict:\n",
    "        \"\"\"\n",
    "        Create a dict with all time data\n",
    "        \n",
    "        Args:\n",
    "            times(list) -> list with all the time strings\n",
    "            \n",
    "        Returns:\n",
    "            dict -> dict with time as key(str) and total occurences as values(int)\n",
    "        \"\"\"\n",
    "        full_times = dict()\n",
    "\n",
    "        full_times['1sek'] = times.count('1sek')\n",
    "        full_times['1min'] = times.count('1min')\n",
    "        full_times['5min'] = times.count('5min')\n",
    "        full_times['15min'] = times.count('15min')\n",
    "        full_times['1std'] = times.count('1std')\n",
    "\n",
    "        return full_times\n",
    "        \n",
    "        \n",
    "    def stats(self, predictions: list):  \n",
    "        \"\"\"\n",
    "        Create statistics on the classification accuracy, misclassifications and accuracy of the different sample times\n",
    "        \n",
    "        Args:\n",
    "            predictions(list): a list with the predictions.\n",
    "                               index 0: true labels\n",
    "                               index 1: predicted labels\n",
    "                               index 2: sample times\n",
    "        \"\"\"\n",
    "        true_labels = predictions[0]\n",
    "        predicted_labels = predictions[1]\n",
    "        sample_times = predictions[2]\n",
    "        number_of_samples = len(true_labels)\n",
    "        methods = []\n",
    "        \n",
    "        if not self.shuffle and not self.multi_shuffle and not self.local_shuffle and not self.area_shuffle and not self.compare_with_samples:\n",
    "            methods.append(\"None\")\n",
    "        if self.compare_with_samples:\n",
    "            methods.append(\"Compare with sample Data\")\n",
    "        if self.shuffle:\n",
    "            methods.append(\"Shuffle\")\n",
    "        if self.multi_shuffle:\n",
    "            methods.append(\"Multiple Shuffles with {} predictions per Material\".format(self.num_of_predictions))\n",
    "        if self.local_shuffle:\n",
    "            methods.append(\"Local-Shuffle in {} parts\".format(self.buckets))\n",
    "        if self.area_shuffle:\n",
    "            methods.append(\"Area-Shuffle from index {} to {}\".format(self.area[0], self.area[1]))\n",
    "        \n",
    "        methods_str = \" + \".join(methods)\n",
    "        \n",
    "        #Misclassification statistics\n",
    "        accuracy = self.accuracy(true_labels, predicted_labels, sample_times)\n",
    "        misclassification_amount = self.create_missclass_list(accuracy[0])\n",
    "        misclassified_data = pd.DataFrame(misclassification_amount, columns=['True', '    Predicted', '    Misclassifications'])\n",
    "    \n",
    "        print(\"Method(s) used: {}\\n\".format(methods_str))\n",
    "        \n",
    "        print(\"Number of classifications: {}\".format(number_of_samples))\n",
    "        #print(\"Correctly classified: {}\".format(number_of_samples - len(misclassified_data)))\n",
    "        print(\"Correctly classified:      {}\".format(number_of_samples - len(accuracy[0])))\n",
    "        #print(\"Misclassfications:         {}\".format(len(accuracy[0])))\n",
    "        print(\"Accuracy: {:.2%}\\n\".format(accuracy[1]))\n",
    "\n",
    "        print(\"Misclassifications:\")\n",
    "        if len(misclassified_data) <= 10:\n",
    "            print(misclassified_data.to_string(index=False))\n",
    "        else:\n",
    "            print(misclassified_data.iloc[:10].to_string(index=False))\n",
    "        \n",
    "        print(\"\\n___________________________________________________________________\\n\")\n",
    "        \n",
    "        #Sample times statistic\n",
    "        try:\n",
    "            total_times = self.get_full_times_dict(sample_times)\n",
    "            correct_predicted_times = self.time_statistics(true_labels, predicted_labels, sample_times)\n",
    "\n",
    "            #print(\"Total samples: {}\\n\".format(number_of_samples))\n",
    "            print(\"total \\t\\t\\t correct \\t\\t accuracy\")\n",
    "            print(\"----------------------------------------------------------\")\n",
    "            \n",
    "            for key in total_times:\n",
    "                total = total_times[key]\n",
    "                predicted = correct_predicted_times[key]\n",
    "                p = predicted / total\n",
    "\n",
    "                print(\"{}: {} samples \\t {}: {} samples \\t {:.2%}\".format(key, total, key, predicted, p))\n",
    "        except:\n",
    "            pass\n",
    "        \n",
    "        \n",
    "    def create_missclass_list(self, misclassifications):\n",
    "        \"\"\"\n",
    "        Create a list of how many times what material was misclassified\n",
    "        \n",
    "        Args:\n",
    "            misclassifications(list): a list with all misclassifications\n",
    "        Returns:\n",
    "            list -> list with true label at index 0, misclassified label at index 1 and total amount at index 2\n",
    "        \"\"\"\n",
    "        \n",
    "        misclass_dict = {}\n",
    "        misclass_list = []\n",
    "        \n",
    "        for elem in misclassifications:\n",
    "            prediction = (elem[0], elem[1])\n",
    "            \n",
    "            if prediction in misclass_dict:\n",
    "                misclass_dict[prediction] += 1\n",
    "            else:\n",
    "                misclass_dict[prediction] = 1\n",
    "        \n",
    "        for elem in misclass_dict.items():\n",
    "            misclass_list.append(elem[0] + (elem[1],))\n",
    "        \n",
    "        misclass_list.sort(key=lambda x:x[2], reverse=True)\n",
    "\n",
    "        return misclass_list\n",
    "                \n",
    "        \n",
    "    def ks_test_manuell(self, known, unknown):\n",
    "        \"\"\"\n",
    "        kstest code block from the scipy.stats.ks_2samp that calculates the distance\n",
    "        \n",
    "        Args:\n",
    "            known(pd.DataFrame) -> known material\n",
    "            unknown(pd.DataFrame) -> unknown material\n",
    "            \n",
    "        Returns:\n",
    "            d(float) -> maximum distance between two functions\n",
    "        \"\"\"\n",
    "        data1 = np.array(known)\n",
    "        data2 = np.array(unknown)\n",
    "        \n",
    "        n1 = data1.shape[0]\n",
    "        n2 = data2.shape[0]\n",
    "        \n",
    "        data_all = np.concatenate([data1, data2])\n",
    "        \n",
    "        cdf1 = np.searchsorted(data1, data_all, side='right') / n1\n",
    "        cdf2 = np.searchsorted(data2, data_all, side='right') / n2\n",
    "        cddiffs = cdf1 - cdf2\n",
    "         \n",
    "        minS = np.clip(-np.min(cddiffs), 0, 1)\n",
    "        maxS = np.max(cddiffs)\n",
    "        \n",
    "        d = max(minS, maxS)\n",
    "        \n",
    "        return d"
   ]
  },
  {
   "cell_type": "code",
   "execution_count": 8,
   "id": "429aee76-71e1-4c4b-bb10-867707dc5fe2",
   "metadata": {
    "tags": []
   },
   "outputs": [],
   "source": [
    "main_path = 'files/materials.csv'\n",
    "sample_path = 'materials_sampled_100'\n",
    "mean_sample = 'materials_sampled_100_mean'"
   ]
  },
  {
   "cell_type": "code",
   "execution_count": 9,
   "id": "09e6e1ac-ec2d-43f2-8d33-c7e064d0baf2",
   "metadata": {
    "tags": []
   },
   "outputs": [],
   "source": [
    "#class to create a fixed sample list\n",
    "ks_clf = ksClassifier(main_path = main_path, create_sample = True)"
   ]
  },
  {
   "cell_type": "code",
   "execution_count": 10,
   "id": "19d1ce15-c0f9-4b90-a8a8-773478d63836",
   "metadata": {
    "tags": []
   },
   "outputs": [],
   "source": [
    "number_of_samples = 1000\n",
    "#create the sample\n",
    "sample = ks_clf.test(sample_path, number_of_samples)"
   ]
  },
  {
   "cell_type": "code",
   "execution_count": 11,
   "id": "1f79487b-1e8e-4256-85bd-46ad33dce0a3",
   "metadata": {
    "tags": []
   },
   "outputs": [],
   "source": [
    "ks_clf = ksClassifier(main_path = main_path, set_sample = False, sample_list = sample, \n",
    "                      compare_with_samples = True, samples_mean_path = mean_sample, shuffle = False, \n",
    "                      local_shuffle = False, buckets = 2, multi_shuffle = False, num_of_predictions = 20,\n",
    "                      area_shuffle = False, area = (1169, 16217))\n",
    "\n",
    "#predictions = ks_clf.test(sample_path, number_of_samples)\n",
    "\n",
    "#ks_clf.stats(predictions)"
   ]
  },
  {
   "cell_type": "code",
   "execution_count": 14,
   "id": "922218c2-0047-4af0-8f71-7e1cb7f377fd",
   "metadata": {},
   "outputs": [
    {
     "data": {
      "text/plain": [
       "5922"
      ]
     },
     "execution_count": 14,
     "metadata": {},
     "output_type": "execute_result"
    }
   ],
   "source": [
    "ks_clf.samples_1sek['Al_4'].sum()"
   ]
  },
  {
   "cell_type": "markdown",
   "id": "ade9a45a-fa44-455b-8581-21aab0dc1a79",
   "metadata": {},
   "source": [
    "### No Method"
   ]
  },
  {
   "cell_type": "code",
   "execution_count": 23,
   "id": "f59fc1a8-e33a-417f-ac5a-59205236f4b8",
   "metadata": {
    "execution": {
     "iopub.execute_input": "2022-01-07T13:35:20.124091Z",
     "iopub.status.busy": "2022-01-07T13:35:20.123306Z",
     "iopub.status.idle": "2022-01-07T13:39:56.951429Z",
     "shell.execute_reply": "2022-01-07T13:39:56.950906Z",
     "shell.execute_reply.started": "2022-01-07T13:35:20.124011Z"
    },
    "tags": []
   },
   "outputs": [
    {
     "name": "stdout",
     "output_type": "stream",
     "text": [
      "100.00%\n",
      "Method(s) used: None\n",
      "\n",
      "Number of classifications: 5000\n",
      "Correctly classified:      3676\n",
      "Accuracy: 73.52%\n",
      "\n",
      "Misclassifications:\n",
      "      True     Predicted      Misclassifications\n",
      "      Al_3          Al_1                      79\n",
      "      Al_5          Al_1                      78\n",
      "       Erz          Cu_0                      42\n",
      "      Al_3          Al_4                      40\n",
      "      Al_2          Cu_0                      40\n",
      "      Al_4          Al_1                      39\n",
      "      Cu_0          Cu_3                      33\n",
      "      Al_1          Cu_0                      32\n",
      "Erdreich_2          Cu_0                      31\n",
      "      Al_5          Al_4                      30\n",
      "\n",
      "___________________________________________________________________\n",
      "\n",
      "total \t\t\t correct \t\t accuracy\n",
      "----------------------------------------------------------\n",
      "1sek: 1009 samples \t 1sek: 180 samples \t 17.84%\n",
      "1min: 974 samples \t 1min: 710 samples \t 72.90%\n",
      "5min: 1018 samples \t 5min: 893 samples \t 87.72%\n",
      "15min: 988 samples \t 15min: 914 samples \t 92.51%\n",
      "1std: 1011 samples \t 1std: 979 samples \t 96.83%\n"
     ]
    }
   ],
   "source": [
    "ks_clf = ksClassifier(main_path = main_path, set_sample = True, sample_list = sample, \n",
    "                      compare_with_samples = False, samples_mean_path = mean_sample, shuffle = False, \n",
    "                      local_shuffle = False, buckets = 2, multi_shuffle = False, num_of_predictions = 20,\n",
    "                      area_shuffle = False, area = (1169, 16217))\n",
    "\n",
    "predictions = ks_clf.test(sample_path, number_of_samples)\n",
    "\n",
    "ks_clf.stats(predictions)"
   ]
  },
  {
   "cell_type": "markdown",
   "id": "3a82bd61-7d1c-4b30-a319-8ed565950e79",
   "metadata": {},
   "source": [
    "### Shuffle"
   ]
  },
  {
   "cell_type": "code",
   "execution_count": 24,
   "id": "0da07066-89d7-4eb6-b095-9a54169226c9",
   "metadata": {
    "execution": {
     "iopub.execute_input": "2022-01-07T13:40:31.151731Z",
     "iopub.status.busy": "2022-01-07T13:40:31.147489Z",
     "iopub.status.idle": "2022-01-07T13:46:28.375338Z",
     "shell.execute_reply": "2022-01-07T13:46:28.374788Z",
     "shell.execute_reply.started": "2022-01-07T13:40:31.151682Z"
    },
    "tags": []
   },
   "outputs": [
    {
     "name": "stdout",
     "output_type": "stream",
     "text": [
      "100.00%\n",
      "Method(s) used: Shuffle\n",
      "\n",
      "Number of classifications: 5000\n",
      "Correctly classified:      4036\n",
      "Accuracy: 80.72%\n",
      "\n",
      "Misclassifications:\n",
      "      True     Predicted      Misclassifications\n",
      "      Al_5          Al_1                      36\n",
      "      Cu_1          Cu_2                      25\n",
      "      Cu_2          Cu_1                      25\n",
      "Erdreich_2    Erdreich_1                      24\n",
      "      Al_1          Al_5                      23\n",
      "      Al_1          Al_3                      20\n",
      "Erdreich_1    Erdreich_2                      18\n",
      "      Al_5          Al_3                      16\n",
      "    Zement     Stuckgips                      15\n",
      "      Al_3          Al_4                      15\n",
      "\n",
      "___________________________________________________________________\n",
      "\n",
      "total \t\t\t correct \t\t accuracy\n",
      "----------------------------------------------------------\n",
      "1sek: 1009 samples \t 1sek: 287 samples \t 28.44%\n",
      "1min: 974 samples \t 1min: 805 samples \t 82.65%\n",
      "5min: 1018 samples \t 5min: 956 samples \t 93.91%\n",
      "15min: 988 samples \t 15min: 977 samples \t 98.89%\n",
      "1std: 1011 samples \t 1std: 1011 samples \t 100.00%\n"
     ]
    }
   ],
   "source": [
    "ks_clf = ksClassifier(main_path = main_path, set_sample = True, sample_list = sample, \n",
    "                      compare_with_samples = False, samples_mean_path = mean_sample, shuffle = True, \n",
    "                      local_shuffle = False, buckets = 2, multi_shuffle = False, num_of_predictions = 20,\n",
    "                      area_shuffle = False, area = (1169, 16217))\n",
    "\n",
    "predictions = ks_clf.test(sample_path, number_of_samples)\n",
    "\n",
    "ks_clf.stats(predictions)"
   ]
  },
  {
   "cell_type": "markdown",
   "id": "c4b98a2a-311c-42a6-8f96-39af8c05ad73",
   "metadata": {},
   "source": [
    "### Multi-Shuffle"
   ]
  },
  {
   "cell_type": "code",
   "execution_count": 25,
   "id": "2ee2033b-9789-4a78-a767-ecc2f11f7c83",
   "metadata": {
    "execution": {
     "iopub.execute_input": "2022-01-07T13:46:28.377628Z",
     "iopub.status.busy": "2022-01-07T13:46:28.377521Z",
     "iopub.status.idle": "2022-01-07T14:21:40.258574Z",
     "shell.execute_reply": "2022-01-07T14:21:40.258071Z",
     "shell.execute_reply.started": "2022-01-07T13:46:28.377616Z"
    },
    "tags": []
   },
   "outputs": [
    {
     "name": "stdout",
     "output_type": "stream",
     "text": [
      "100.00%\n",
      "Method(s) used: Multiple Shuffles with 20 predictions per Material\n",
      "\n",
      "Number of classifications: 5000\n",
      "Correctly classified:      4347\n",
      "Accuracy: 86.94%\n",
      "\n",
      "Misclassifications:\n",
      "      True     Predicted      Misclassifications\n",
      "      Al_5          Al_1                      30\n",
      "      Cu_2          Cu_1                      13\n",
      "      Al_5          Al_3                      12\n",
      "    Zement     Stuckgips                      11\n",
      "      Al_3          Al_1                      11\n",
      "Erdreich_2    Erdreich_1                      11\n",
      "      Cu_2          Cu_4                      10\n",
      "      Cu_5          Cu_4                      10\n",
      "      Cu_1          Cu_4                      10\n",
      "Erdreich_1    Erdreich_2                      10\n",
      "\n",
      "___________________________________________________________________\n",
      "\n",
      "total \t\t\t correct \t\t accuracy\n",
      "----------------------------------------------------------\n",
      "1sek: 1009 samples \t 1sek: 401 samples \t 39.74%\n",
      "1min: 974 samples \t 1min: 933 samples \t 95.79%\n",
      "5min: 1018 samples \t 5min: 1014 samples \t 99.61%\n",
      "15min: 988 samples \t 15min: 988 samples \t 100.00%\n",
      "1std: 1011 samples \t 1std: 1011 samples \t 100.00%\n"
     ]
    }
   ],
   "source": [
    "ks_clf = ksClassifier(main_path = main_path, set_sample = True, sample_list = sample, \n",
    "                      compare_with_samples = False, samples_mean_path = mean_sample, shuffle = False, \n",
    "                      local_shuffle = False, buckets = 2, multi_shuffle = True, num_of_predictions = 20,\n",
    "                      area_shuffle = False, area = (1169, 16217))\n",
    "\n",
    "predictions = ks_clf.test(sample_path, number_of_samples)\n",
    "\n",
    "ks_clf.stats(predictions)"
   ]
  },
  {
   "cell_type": "markdown",
   "id": "8e959f30-55ba-4e5e-8668-66be6873173b",
   "metadata": {},
   "source": [
    "### Local-Shuffle"
   ]
  },
  {
   "cell_type": "code",
   "execution_count": 26,
   "id": "6ea30ebd-8dcb-4bed-b224-c8a85f3dbcb3",
   "metadata": {
    "execution": {
     "iopub.execute_input": "2022-01-07T14:21:40.261136Z",
     "iopub.status.busy": "2022-01-07T14:21:40.260945Z",
     "iopub.status.idle": "2022-01-07T14:27:44.487703Z",
     "shell.execute_reply": "2022-01-07T14:27:44.487266Z",
     "shell.execute_reply.started": "2022-01-07T14:21:40.261121Z"
    },
    "tags": []
   },
   "outputs": [
    {
     "name": "stdout",
     "output_type": "stream",
     "text": [
      "100.00%\n",
      "Method(s) used: Local-Shuffle in 2 parts\n",
      "\n",
      "Number of classifications: 5000\n",
      "Correctly classified:      4144\n",
      "Accuracy: 82.88%\n",
      "\n",
      "Misclassifications:\n",
      "     True     Predicted      Misclassifications\n",
      "     Al_1          Al_5                      45\n",
      "     Cu_1          Cu_2                      33\n",
      "     Cu_2          Cu_1                      32\n",
      "     Al_3          Al_4                      32\n",
      "     Al_5          Al_1                      30\n",
      "     Al_4          Al_3                      27\n",
      "     Cu_0          Cu_4                      27\n",
      "      Erz          Cu_4                      24\n",
      "Stuckgips     E-Schrott                      22\n",
      "     Cu_0          Cu_3                      21\n",
      "\n",
      "___________________________________________________________________\n",
      "\n",
      "total \t\t\t correct \t\t accuracy\n",
      "----------------------------------------------------------\n",
      "1sek: 1009 samples \t 1sek: 374 samples \t 37.07%\n",
      "1min: 974 samples \t 1min: 805 samples \t 82.65%\n",
      "5min: 1018 samples \t 5min: 973 samples \t 95.58%\n",
      "15min: 988 samples \t 15min: 981 samples \t 99.29%\n",
      "1std: 1011 samples \t 1std: 1011 samples \t 100.00%\n"
     ]
    }
   ],
   "source": [
    "ks_clf = ksClassifier(main_path = main_path, set_sample = True, sample_list = sample, \n",
    "                      compare_with_samples = False, samples_mean_path = mean_sample, shuffle = False, \n",
    "                      local_shuffle = True, buckets = 2, multi_shuffle = False, num_of_predictions = 20,\n",
    "                      area_shuffle = False, area = (1169, 16217))\n",
    "\n",
    "predictions = ks_clf.test(sample_path, number_of_samples)\n",
    "\n",
    "ks_clf.stats(predictions)"
   ]
  },
  {
   "cell_type": "markdown",
   "id": "2784ebcf-b1c2-4124-9ece-1c1328cf171d",
   "metadata": {},
   "source": [
    "### Area-Shuffle"
   ]
  },
  {
   "cell_type": "code",
   "execution_count": 27,
   "id": "27985ad0-f008-4dd7-9463-e3feacb83fdb",
   "metadata": {
    "execution": {
     "iopub.execute_input": "2022-01-07T14:27:44.493597Z",
     "iopub.status.busy": "2022-01-07T14:27:44.493338Z",
     "iopub.status.idle": "2022-01-07T14:33:47.237808Z",
     "shell.execute_reply": "2022-01-07T14:33:47.237336Z",
     "shell.execute_reply.started": "2022-01-07T14:27:44.493580Z"
    },
    "tags": []
   },
   "outputs": [
    {
     "name": "stdout",
     "output_type": "stream",
     "text": [
      "100.00%\n",
      "Method(s) used: Area-Shuffle from index 1169 to 16217\n",
      "\n",
      "Number of classifications: 5000\n",
      "Correctly classified:      4439\n",
      "Accuracy: 88.78%\n",
      "\n",
      "Misclassifications:\n",
      "    True     Predicted      Misclassifications\n",
      "    Cu_5          Cu_1                      26\n",
      "    Al_5          Al_3                      25\n",
      "    Cu_5          Cu_2                      24\n",
      "  Zement           Erz                      24\n",
      "     Erz        Zement                      20\n",
      "    Cu_2          Cu_1                      19\n",
      "Melamine     Stuckgips                      18\n",
      "    Cu_2          Cu_5                      17\n",
      "    Al_5          Al_1                      17\n",
      "    Cu_1          Cu_2                      15\n",
      "\n",
      "___________________________________________________________________\n",
      "\n",
      "total \t\t\t correct \t\t accuracy\n",
      "----------------------------------------------------------\n",
      "1sek: 1009 samples \t 1sek: 497 samples \t 49.26%\n",
      "1min: 974 samples \t 1min: 931 samples \t 95.59%\n",
      "5min: 1018 samples \t 5min: 1013 samples \t 99.51%\n",
      "15min: 988 samples \t 15min: 987 samples \t 99.90%\n",
      "1std: 1011 samples \t 1std: 1011 samples \t 100.00%\n"
     ]
    }
   ],
   "source": [
    "ks_clf = ksClassifier(main_path = main_path, set_sample = True, sample_list = sample, \n",
    "                      compare_with_samples = False, samples_mean_path = mean_sample, shuffle = False, \n",
    "                      local_shuffle = False, buckets = 2, multi_shuffle = False, num_of_predictions = 20,\n",
    "                      area_shuffle = True, area = (1169, 16217))\n",
    "\n",
    "predictions = ks_clf.test(sample_path, number_of_samples)\n",
    "\n",
    "ks_clf.stats(predictions)"
   ]
  },
  {
   "cell_type": "markdown",
   "id": "f6fe680d-8b4b-4b9d-9c4b-433c3c542c27",
   "metadata": {},
   "source": [
    "### Compare with Samples"
   ]
  },
  {
   "cell_type": "code",
   "execution_count": 28,
   "id": "8fce355c-716b-402a-b0a4-9cb52a6b4938",
   "metadata": {
    "execution": {
     "iopub.execute_input": "2022-01-07T14:33:47.238984Z",
     "iopub.status.busy": "2022-01-07T14:33:47.238860Z",
     "iopub.status.idle": "2022-01-07T14:59:49.602772Z",
     "shell.execute_reply": "2022-01-07T14:59:49.593537Z",
     "shell.execute_reply.started": "2022-01-07T14:33:47.238970Z"
    },
    "tags": []
   },
   "outputs": [
    {
     "name": "stdout",
     "output_type": "stream",
     "text": [
      "100.00%\n",
      "Method(s) used: Compare with sample Data\n",
      "\n",
      "Number of classifications: 5000\n",
      "Correctly classified:      3410\n",
      "Accuracy: 68.20%\n",
      "\n",
      "Misclassifications:\n",
      "     True     Predicted      Misclassifications\n",
      "     Cu_0          Cu_3                     143\n",
      "     Al_3          Al_5                      96\n",
      "     Al_1          Al_5                      93\n",
      "     Al_5          Al_4                      73\n",
      "     Al_3          Al_4                      70\n",
      "     Cu_0      Melamine                      54\n",
      "     Al_1          Al_4                      48\n",
      "     Al_2      Melamine                      36\n",
      "      Erz      Melamine                      35\n",
      "Stuckgips        Zement                      31\n",
      "\n",
      "___________________________________________________________________\n",
      "\n",
      "total \t\t\t correct \t\t accuracy\n",
      "----------------------------------------------------------\n",
      "1sek: 1009 samples \t 1sek: 168 samples \t 16.65%\n",
      "1min: 974 samples \t 1min: 698 samples \t 71.66%\n",
      "5min: 1018 samples \t 5min: 846 samples \t 83.10%\n",
      "15min: 988 samples \t 15min: 830 samples \t 84.01%\n",
      "1std: 1011 samples \t 1std: 868 samples \t 85.86%\n"
     ]
    }
   ],
   "source": [
    "ks_clf = ksClassifier(main_path = main_path, set_sample = True, sample_list = sample, \n",
    "                      compare_with_samples = True, samples_mean_path = mean_sample, shuffle = False, \n",
    "                      local_shuffle = False, buckets = 2, multi_shuffle = False, num_of_predictions = 20,\n",
    "                      area_shuffle = False, area = (1169, 16217))\n",
    "\n",
    "predictions = ks_clf.test(sample_path, number_of_samples)\n",
    "\n",
    "ks_clf.stats(predictions)"
   ]
  },
  {
   "cell_type": "markdown",
   "id": "7d13e691-1cb4-416f-a8c1-1f047575f859",
   "metadata": {},
   "source": [
    "### Compare with Samples + shuffle"
   ]
  },
  {
   "cell_type": "code",
   "execution_count": 29,
   "id": "16ecc698-e015-4e3e-ae78-899177433484",
   "metadata": {
    "execution": {
     "iopub.execute_input": "2022-01-07T14:59:49.614568Z",
     "iopub.status.busy": "2022-01-07T14:59:49.614374Z",
     "iopub.status.idle": "2022-01-07T15:35:12.736716Z",
     "shell.execute_reply": "2022-01-07T15:35:12.735878Z",
     "shell.execute_reply.started": "2022-01-07T14:59:49.614553Z"
    },
    "tags": []
   },
   "outputs": [
    {
     "name": "stdout",
     "output_type": "stream",
     "text": [
      "100.00%\n",
      "Method(s) used: Compare with sample Data + Shuffle\n",
      "\n",
      "Number of classifications: 5000\n",
      "Correctly classified:      4074\n",
      "Accuracy: 81.48%\n",
      "\n",
      "Misclassifications:\n",
      "      True     Predicted      Misclassifications\n",
      "      Al_5          Al_1                      39\n",
      "      Cu_1          Cu_2                      25\n",
      "      Cu_2          Cu_1                      25\n",
      "Erdreich_2    Erdreich_1                      24\n",
      "      Al_1          Al_5                      24\n",
      "Erdreich_1    Erdreich_2                      20\n",
      "      Al_5          Al_3                      16\n",
      "      Al_1          Al_3                      16\n",
      "      Cu_1          Cu_5                      15\n",
      "      Cu_3          Cu_0                      15\n",
      "\n",
      "___________________________________________________________________\n",
      "\n",
      "total \t\t\t correct \t\t accuracy\n",
      "----------------------------------------------------------\n",
      "1sek: 1009 samples \t 1sek: 316 samples \t 31.32%\n",
      "1min: 974 samples \t 1min: 801 samples \t 82.24%\n",
      "5min: 1018 samples \t 5min: 964 samples \t 94.70%\n",
      "15min: 988 samples \t 15min: 982 samples \t 99.39%\n",
      "1std: 1011 samples \t 1std: 1011 samples \t 100.00%\n"
     ]
    }
   ],
   "source": [
    "ks_clf = ksClassifier(main_path = main_path, set_sample = True, sample_list = sample, \n",
    "                      compare_with_samples = True, samples_mean_path = mean_sample, shuffle = True, \n",
    "                      local_shuffle = False, buckets = 2, multi_shuffle = False, num_of_predictions = 20,\n",
    "                      area_shuffle = False, area = (1169, 16217))\n",
    "\n",
    "predictions = ks_clf.test(sample_path, number_of_samples)\n",
    "\n",
    "ks_clf.stats(predictions)"
   ]
  },
  {
   "cell_type": "markdown",
   "id": "cd89de61-f694-4b49-baf6-a11879258938",
   "metadata": {},
   "source": [
    "### Compare with Samples + Multi-Shuffle"
   ]
  },
  {
   "cell_type": "code",
   "execution_count": 30,
   "id": "1d75523a-c475-4e88-869a-36e637ec219d",
   "metadata": {
    "execution": {
     "iopub.execute_input": "2022-01-07T15:35:12.752776Z",
     "iopub.status.busy": "2022-01-07T15:35:12.750571Z",
     "iopub.status.idle": "2022-01-07T16:54:09.195999Z",
     "shell.execute_reply": "2022-01-07T16:54:09.194384Z",
     "shell.execute_reply.started": "2022-01-07T15:35:12.752753Z"
    },
    "tags": []
   },
   "outputs": [
    {
     "name": "stdout",
     "output_type": "stream",
     "text": [
      "100.00%\n",
      "Method(s) used: Compare with sample Data + Multiple Shuffles with 20 predictions per Material\n",
      "\n",
      "Number of classifications: 5000\n",
      "Correctly classified:      4466\n",
      "Accuracy: 89.32%\n",
      "\n",
      "Misclassifications:\n",
      "      True     Predicted      Misclassifications\n",
      "      Al_5          Al_1                      37\n",
      "      Al_3          Al_1                      15\n",
      "Erdreich_2    Erdreich_1                      15\n",
      "      Cu_2          Cu_1                      14\n",
      "Erdreich_1           Erz                      14\n",
      "      Cu_1          Cu_4                      13\n",
      "Erdreich_2           Erz                      11\n",
      "      Cu_1          Cu_2                      11\n",
      "      Al_4          Al_1                      11\n",
      "    Zement     Stuckgips                      11\n",
      "\n",
      "___________________________________________________________________\n",
      "\n",
      "total \t\t\t correct \t\t accuracy\n",
      "----------------------------------------------------------\n",
      "1sek: 1009 samples \t 1sek: 520 samples \t 51.54%\n",
      "1min: 974 samples \t 1min: 937 samples \t 96.20%\n",
      "5min: 1018 samples \t 5min: 1010 samples \t 99.21%\n",
      "15min: 988 samples \t 15min: 988 samples \t 100.00%\n",
      "1std: 1011 samples \t 1std: 1011 samples \t 100.00%\n"
     ]
    }
   ],
   "source": [
    "ks_clf = ksClassifier(main_path = main_path, set_sample = True, sample_list = sample, \n",
    "                      compare_with_samples = True, samples_mean_path = mean_sample, shuffle = False, \n",
    "                      local_shuffle = False, buckets = 2, multi_shuffle = True, num_of_predictions = 20,\n",
    "                      area_shuffle = False, area = (1169, 16217))\n",
    "\n",
    "predictions = ks_clf.test(sample_path, number_of_samples)\n",
    "\n",
    "ks_clf.stats(predictions)"
   ]
  },
  {
   "cell_type": "markdown",
   "id": "15d380c4-2dc2-485a-bf90-0517a43a2ee5",
   "metadata": {},
   "source": [
    "### Compare with Samples + Local-Shuffle"
   ]
  },
  {
   "cell_type": "code",
   "execution_count": 31,
   "id": "ae3cd9ea-d3da-4fa5-968a-c1fc0d092d3e",
   "metadata": {
    "execution": {
     "iopub.execute_input": "2022-01-07T16:54:09.203648Z",
     "iopub.status.busy": "2022-01-07T16:54:09.202906Z",
     "iopub.status.idle": "2022-01-07T17:29:52.053929Z",
     "shell.execute_reply": "2022-01-07T17:29:52.051884Z",
     "shell.execute_reply.started": "2022-01-07T16:54:09.203631Z"
    },
    "tags": []
   },
   "outputs": [
    {
     "name": "stdout",
     "output_type": "stream",
     "text": [
      "100.00%\n",
      "Method(s) used: Compare with sample Data + Local-Shuffle in 2 parts\n",
      "\n",
      "Number of classifications: 5000\n",
      "Correctly classified:      4152\n",
      "Accuracy: 83.04%\n",
      "\n",
      "Misclassifications:\n",
      "    True     Predicted      Misclassifications\n",
      "    Cu_2          Cu_1                      40\n",
      "    Al_1          Al_5                      38\n",
      "    Al_3          Al_4                      33\n",
      "    Al_4          Al_3                      31\n",
      "    Cu_1          Cu_2                      29\n",
      "    Cu_0          Cu_4                      28\n",
      "    Al_5          Al_1                      27\n",
      "     Erz          Cu_4                      25\n",
      "    Cu_0          Cu_3                      24\n",
      "Asilikos      Melamine                      24\n",
      "\n",
      "___________________________________________________________________\n",
      "\n",
      "total \t\t\t correct \t\t accuracy\n",
      "----------------------------------------------------------\n",
      "1sek: 1009 samples \t 1sek: 378 samples \t 37.46%\n",
      "1min: 974 samples \t 1min: 819 samples \t 84.09%\n",
      "5min: 1018 samples \t 5min: 963 samples \t 94.60%\n",
      "15min: 988 samples \t 15min: 981 samples \t 99.29%\n",
      "1std: 1011 samples \t 1std: 1011 samples \t 100.00%\n"
     ]
    }
   ],
   "source": [
    "ks_clf = ksClassifier(main_path = main_path, set_sample = True, sample_list = sample, \n",
    "                      compare_with_samples = True, samples_mean_path = mean_sample, shuffle = False, \n",
    "                      local_shuffle = True, buckets = 2, multi_shuffle = False, num_of_predictions = 20,\n",
    "                      area_shuffle = False, area = (1169, 16217))\n",
    "\n",
    "predictions = ks_clf.test(sample_path, number_of_samples)\n",
    "\n",
    "ks_clf.stats(predictions)"
   ]
  },
  {
   "cell_type": "markdown",
   "id": "245d96a6-f0f5-462e-9868-1226337a3e20",
   "metadata": {},
   "source": [
    "### Compare with Samples + Area-Shuffle"
   ]
  },
  {
   "cell_type": "code",
   "execution_count": 32,
   "id": "49889dc4-a541-47fb-b998-737b39f0dc34",
   "metadata": {
    "execution": {
     "iopub.execute_input": "2022-01-07T17:29:52.057989Z",
     "iopub.status.busy": "2022-01-07T17:29:52.057810Z",
     "iopub.status.idle": "2022-01-07T18:05:28.325746Z",
     "shell.execute_reply": "2022-01-07T18:05:28.323756Z",
     "shell.execute_reply.started": "2022-01-07T17:29:52.057975Z"
    },
    "tags": []
   },
   "outputs": [
    {
     "name": "stdout",
     "output_type": "stream",
     "text": [
      "100.00%\n",
      "Method(s) used: Compare with sample Data + Area-Shuffle from index 1169 to 16217\n",
      "\n",
      "Number of classifications: 5000\n",
      "Correctly classified:      4429\n",
      "Accuracy: 88.58%\n",
      "\n",
      "Misclassifications:\n",
      "    True     Predicted      Misclassifications\n",
      "    Cu_5          Cu_2                      29\n",
      "Melamine     Stuckgips                      26\n",
      "    Cu_2          Cu_5                      26\n",
      "     Erz        Zement                      23\n",
      "    Cu_2          Cu_1                      22\n",
      "  Zement           Erz                      22\n",
      "    Cu_5          Cu_1                      20\n",
      "    Al_5          Al_3                      20\n",
      "    Cu_1          Cu_2                      17\n",
      "    Al_3          Al_5                      16\n",
      "\n",
      "___________________________________________________________________\n",
      "\n",
      "total \t\t\t correct \t\t accuracy\n",
      "----------------------------------------------------------\n",
      "1sek: 1009 samples \t 1sek: 491 samples \t 48.66%\n",
      "1min: 974 samples \t 1min: 932 samples \t 95.69%\n",
      "5min: 1018 samples \t 5min: 1007 samples \t 98.92%\n",
      "15min: 988 samples \t 15min: 988 samples \t 100.00%\n",
      "1std: 1011 samples \t 1std: 1011 samples \t 100.00%\n"
     ]
    }
   ],
   "source": [
    "ks_clf = ksClassifier(main_path = main_path, set_sample = True, sample_list = sample, \n",
    "                      compare_with_samples = True, samples_mean_path = mean_sample, shuffle = False, \n",
    "                      local_shuffle = False, buckets = 2, multi_shuffle = False, num_of_predictions = 20,\n",
    "                      area_shuffle = True, area = (1169, 16217))\n",
    "\n",
    "predictions = ks_clf.test(sample_path, number_of_samples)\n",
    "\n",
    "ks_clf.stats(predictions)"
   ]
  },
  {
   "cell_type": "markdown",
   "id": "3e7005dd-44ea-4ab2-85f7-9230e7630a09",
   "metadata": {},
   "source": [
    "# Find best indices for area_shuffle"
   ]
  },
  {
   "cell_type": "code",
   "execution_count": 138,
   "id": "130d6317-fca8-4487-ba52-0a864b05c93d",
   "metadata": {
    "collapsed": true,
    "execution": {
     "iopub.execute_input": "2022-01-04T10:47:35.493345Z",
     "iopub.status.busy": "2022-01-04T10:47:35.492450Z",
     "iopub.status.idle": "2022-01-05T08:24:29.693988Z",
     "shell.execute_reply": "2022-01-05T08:24:29.691776Z",
     "shell.execute_reply.started": "2022-01-04T10:47:35.493265Z"
    },
    "jupyter": {
     "outputs_hidden": true
    },
    "tags": []
   },
   "outputs": [
    {
     "name": "stdout",
     "output_type": "stream",
     "text": [
      "[(7095, 14674), (5065, 6125), (944, 978), (2108, 4786), (1298, 2309), (3939, 13186), (8683, 9455), (4591, 9565), (7701, 10994), (208, 8559), (6260, 14181), (6000, 14675), (5430, 9552), (8059, 11423), (2022, 2953), (6937, 7459), (7600, 11325), (8082, 12268), (14889, 15340), (5281, 5645), (3040, 14631), (13746, 15008), (4506, 5891), (1665, 10421), (9854, 12998), (8981, 14190), (238, 7674), (6537, 8600), (918, 11021), (1847, 12004), (11030, 13875), (10811, 12243), (3726, 9748), (8620, 10580), (4133, 8087), (4217, 7685), (9119, 15264), (3183, 10007), (3789, 9716), (3220, 8747), (7861, 8174), (6341, 10862), (4142, 5882), (6534, 8080), (9221, 13854), (13159, 13867), (5057, 12988), (2659, 4206), (3405, 6490), (2133, 14763), (4632, 15617), (2610, 6938), (4062, 12109), (8441, 10164), (4990, 11432), (310, 2453), (1740, 2222), (13542, 14733), (2793, 6923), (1169, 16217), (11804, 15199), (12636, 15810), (10452, 13627), (10685, 15302), (4694, 9315), (1138, 8859), (5633, 8576), (568, 7328), (7773, 15576), (6305, 13912), (6870, 13314), (7475, 9312), (4530, 8046), (1342, 11584), (7819, 8972), (549, 14043), (391, 3891), (9937, 15036), (6888, 14339), (15013, 15378), (12437, 13598), (3496, 5858), (5121, 12520), (6270, 12556), (1263, 4345), (2331, 11292), (6078, 8187), (6380, 6794), (8025, 11988), (3558, 5085), (1900, 10667), (13638, 15084), (2259, 8139), (6007, 8014), (6708, 15074), (6263, 11933), (15754, 16013), (11758, 14818), (6168, 8686), (6365, 7106), (2454, 9097), (4911, 12471), (540, 12195), (2514, 2644), (1523, 8660), (3851, 10380), (13106, 14783), (9252, 15916), (10013, 13788), (11345, 12706), (7154, 7776), (12961, 13156), (65, 12158), (13168, 13521), (4913, 6812), (11029, 16154), (5786, 15248), (7712, 11863), (11014, 14673), (1396, 7812), (3814, 10386), (3611, 4317), (3348, 9893), (1083, 7997), (11256, 13350), (4990, 14399), (7924, 14576), (9553, 14156), (6477, 12372), (10958, 15255), (129, 624), (9956, 10465), (5862, 14746), (2978, 14716), (14383, 15462), (3349, 11729), (2828, 9089), (3006, 3131), (18, 14465), (13144, 14317), (770, 15931), (7101, 10055), (3846, 5107), (5995, 8796), (2946, 8470), (6911, 15129), (3370, 8528), (3184, 14869), (1866, 12900), (3667, 13511), (5561, 9169), (1372, 15074), (2973, 6118), (455, 7113), (6125, 9632), (10085, 13482), (11160, 14941), (4368, 5089), (13146, 14692), (1911, 10046), (1928, 4146), (4746, 9131), (6964, 10415), (2456, 9027), (384, 1858), (7378, 16212), (4161, 6560), (10893, 16003), (1804, 11787), (168, 1201), (13264, 15787), (5807, 12094), (3553, 10414), (617, 5124), (273, 1637), (1786, 5802), (5037, 13190), (5692, 12978), (3999, 15120), (8762, 14533), (12537, 14207), (2155, 2450), (2617, 4161), (4483, 6555), (8731, 9233), (7634, 10827), (2773, 9038), (5028, 8390), (10757, 15918), (563, 4220), (10629, 11593), (1143, 7079), (5055, 9169), (1591, 16084), (6527, 11002), (1592, 7096), (1387, 8030), (2102, 10540), (2531, 14740), (2777, 13798), (2678, 4917), (11970, 15105), (4829, 13925), (992, 1049), (4424, 4609), (9900, 12624), (8508, 10391), (1300, 11095), (3464, 12188), (7308, 11327), (9776, 16054), (1735, 11761), (1285, 14310), (6807, 7717), (2755, 3737), (5397, 8307), (9558, 10726), (1809, 10409), (6396, 14536), (13070, 14034), (9523, 12722), (3606, 14085), (1286, 2877), (5014, 9896), (2656, 11586), (3728, 4184), (2418, 3260), (6896, 8071), (3238, 3532), (9104, 12804), (3395, 13181), (1774, 5570), (8264, 8336), (3795, 7267), (3506, 3590), (1635, 4968), (3534, 11812), (10752, 14643), (2736, 15919), (4331, 8407), (9900, 13675), (4758, 5745), (2827, 9112), (8536, 10358), (3542, 10267), (15958, 16076), (11939, 12361), (5968, 12590), (5278, 7702), (3510, 11734), (9680, 14658), (3060, 12925), (10574, 16024), (7189, 13963), (11681, 16199), (5250, 5632), (462, 6650), (223, 5245), (476, 15738), (7211, 16184), (5920, 13862), (4374, 12002), (375, 4261), (3534, 10812), (926, 8886), (3866, 15639), (9003, 14924), (6402, 13389), (9857, 15060), (13747, 15774), (6967, 14006), (1556, 9134), (7053, 13760), (3461, 5244), (3506, 12775), (8366, 9060), (1458, 16083), (290, 12127), (971, 8355), (7539, 9237), (198, 2584), (9503, 14425), (4609, 12904), (11775, 11780), (4615, 14307), (3737, 12753), (6459, 9388), (2154, 10807), (9436, 14944), (8633, 9003), (1294, 15664), (3729, 4829), (781, 8754), (6903, 15109), (2344, 3571), (5861, 8622), (2540, 7478), (3505, 13158), (3613, 5171), (6737, 15341), (3211, 7065), (7694, 11327), (3175, 7029), (5044, 12555), (4790, 13657), (6649, 14928), (4876, 6143), (270, 4879), (5148, 8283), (7074, 10250), (6813, 7315), (413, 8177), (200, 10434), (5402, 7299), (7166, 9188), (1250, 14131), (782, 14502), (1873, 10310), (4068, 14174), (10057, 15804), (819, 13996), (4543, 6021), (12842, 12872), (916, 5602), (4674, 12432), (14227, 15131), (959, 15102), (3355, 8294), (600, 12854), (4308, 14665), (6454, 9341), (1096, 11522), (1942, 12371), (3952, 15503), (2163, 14191), (11671, 14501), (11767, 12053), (272, 11956), (1843, 5190), (10362, 13319), (11428, 15377), (3159, 13960), (10635, 16105), (9628, 10841), (4109, 8050), (9474, 12776), (5476, 9964), (19, 15792), (8071, 8838), (10027, 13515), (2379, 13211), (129, 11282), (9871, 10893), (1041, 12229), (7546, 11616), (703, 15040), (7537, 8875), (7586, 13215), (8972, 12540), (1, 8836), (1587, 8860), (6411, 9222), (5045, 11465), (11655, 14349), (2621, 14535), (4764, 12222), (2250, 15672), (5482, 10863), (4406, 14262), (1896, 7071), (5551, 6231), (12945, 13511), (3461, 15390), (11385, 13236), (14378, 15884), (2062, 11050), (9768, 15761), (3446, 7642), (8214, 10434), (6101, 8030), (3747, 12872), (2763, 4623), (4100, 10049), (9503, 15830), (11066, 15187), (5640, 13665), (10221, 11870), (1780, 11711), (833, 15163), (562, 10576), (1858, 11955), (5106, 13210), (1954, 2428), (1056, 16134), (5429, 8146), (4770, 13880), (1939, 8510), (8992, 10113), (5451, 13690), (7464, 11248), (3676, 8413), (250, 12768), (3707, 4474), (1281, 12375), (914, 3634), (4334, 9695), (6716, 11048), (11582, 13388), (4416, 7659), (4962, 9052), (3594, 7312), (7518, 7885), (1211, 15924), (4185, 10798), (177, 2511), (4845, 6788), (4678, 7828), (3452, 10325), (2401, 14969), (12073, 13249), (4565, 15168), (11544, 15634), (1220, 2708), (7012, 8009), (11, 2450), (751, 15776), (9799, 13248), (330, 12358), (7096, 9140), (5504, 10923), (4974, 7822), (6737, 14864), (3768, 13154), (3315, 3804), (2238, 14885), (4758, 13964), (12787, 14075), (14057, 14428), (2556, 6123), (8850, 12740), (1916, 10104), (2751, 9636), (3143, 5751), (3076, 8315), (13634, 14516), (3521, 11300), (12954, 15209), (82, 4880), (6244, 14107), (7063, 10264), (108, 12143), (9635, 14371), (1338, 9979), (2861, 14718), (6422, 13239), (531, 8571), (5377, 6434), (1960, 5524), (682, 9337), (1528, 5891), (6736, 14367), (1730, 13744), (6462, 14357), (5557, 10352), (10321, 14344), (2045, 10279), (3007, 10629), (3659, 7658), (7021, 15578), (9944, 14455), (10211, 11896), (2657, 8083), (6092, 11263), (1783, 12526), (1421, 12959), (9313, 11168), (5257, 10227), (5789, 6690), (10866, 15732), (13807, 16110), (3326, 8930), (880, 3768), (12376, 13869), (10313, 12619), (8102, 11614), (5905, 11442), (3420, 12502), (673, 15899), (7117, 9989), (1050, 4831), (8510, 10141), (12749, 13251), (7538, 13879), (4670, 4864), (6704, 10419), (1445, 12644), (9780, 11656), (8913, 13467), (2131, 11556), (3953, 10682), (1442, 14317), (8523, 16171), (3114, 15524), (902, 15168), (1816, 10756), (6455, 11325), (9448, 9605), (224, 13822), (7722, 10960), (4873, 6249), (5700, 8630), (6941, 15275), (6674, 10290), (8366, 10957), (5823, 14953), (3923, 9766), (2146, 10440), (2991, 6504), (6682, 9077), (13968, 15726), (3270, 15492), (1931, 9106), (9104, 10013), (8016, 13855), (6884, 9575), (8994, 15192), (8022, 8430), (11215, 11518), (3972, 4845), (8001, 12039), (7643, 15575), (9084, 11058), (11422, 15206), (11300, 12452), (4357, 15390), (1647, 6495), (1835, 10346), (5238, 8062), (9644, 15312), (11057, 13618), (3225, 6481), (6470, 10929), (3789, 16116), (5205, 13111), (370, 3490), (2500, 12167), (1869, 2938), (11475, 15136), (3611, 12113), (6252, 7009), (5586, 15382), (2679, 6610), (8768, 10647), (2135, 2670), (3361, 14124), (6921, 14027), (4466, 12085), (11826, 13522), (2720, 8671), (2388, 14840), (881, 1557), (6325, 8409), (10866, 14064), (13025, 13253), (2819, 9651), (2272, 10051), (4058, 10991), (4582, 10046), (3968, 12676), (4173, 13584), (8501, 15375), (3518, 5000), (3705, 8702), (7980, 10059), (11541, 13983), (386, 9329), (1175, 2304), (2255, 5502), (1270, 15928), (4095, 7242), (8206, 8352), (4577, 9132), (7358, 8557), (12386, 12499), (3433, 15395), (5587, 9774), (1690, 7840), (9406, 14242), (4676, 7117), (2292, 12101), (6932, 9984), (534, 2295), (2049, 2278), (3371, 5742), (776, 14597), (4800, 9422), (4753, 7634), (750, 4853), (5822, 7378), (2059, 2729), (5389, 11718), (7787, 8946), (13882, 16124), (3848, 4709), (4820, 7720), (5475, 12431), (2869, 4944), (1840, 10872), (9592, 10203), (8627, 16123), (6885, 10030), (885, 14843), (1852, 8034), (3882, 5735), (13224, 13772), (8396, 14937), (2241, 7539), (8683, 11953), (2979, 6049), (2433, 8547), (5638, 6204), (12540, 14179), (1083, 4920), (4808, 5317), (6880, 7857), (4769, 6424), (11776, 14228), (5996, 7070), (2164, 2260), (1717, 2606), (4269, 11494), (7812, 7969), (3391, 6642), (576, 7174), (3601, 4667), (1911, 15787), (1214, 4448), (2521, 11891), (2898, 8266), (8712, 12943), (9048, 11411), (480, 1141), (461, 10139), (444, 13771), (3253, 15406), (8416, 14205), (3980, 5517), (4267, 11238), (6262, 8382), (1712, 10805), (9548, 11116), (9766, 12011), (2371, 12280), (6604, 13069), (4331, 12660), (1856, 13682), (1259, 5594), (12663, 12862), (5208, 13415), (5087, 6344), (9557, 11572), (3980, 14455), (5847, 16108), (8217, 10363), (3499, 11619), (1878, 11223), (11865, 14958), (4477, 9804), (3381, 15286), (3366, 5136), (7232, 11963), (1300, 15178), (5151, 12620), (1581, 9551), (10149, 15429), (1874, 11326), (3242, 10016), (5191, 8121), (5419, 9276), (13534, 15468), (8426, 15680), (2853, 6153), (6451, 12414), (2839, 10140), (1827, 8212), (2023, 15115), (5399, 7744), (7008, 10947), (10342, 13773), (3720, 9129), (881, 9036), (3338, 13530), (5924, 13875), (2343, 11884), (7585, 15717), (7200, 15268), (5005, 6623), (2395, 5376), (2012, 12932), (3277, 13444), (11388, 15396), (16204, 16215), (12622, 13022), (11022, 11720), (4221, 15343), (2641, 11088), (8337, 15867), (145, 616), (15401, 15707), (4053, 10286), (2221, 10988), (8596, 12631), (7774, 7799), (5262, 5359), (4911, 10876), (7059, 13233), (8418, 15713), (4398, 7331), (5098, 11284), (8623, 9567), (3735, 14343), (688, 2096), (2882, 12161), (8652, 10019), (1546, 9302), (6321, 8002), (2527, 8475), (1900, 3601), (12239, 12830), (8466, 8504), (1519, 11592), (10563, 11550), (9979, 12440), (1128, 8870), (2842, 10581), (3831, 4946), (5573, 13476), (3745, 4542), (2559, 10724), (188, 594), (6660, 7905), (8902, 9126), (219, 5431), (4243, 15111), (1921, 13016), (2617, 13991), (1320, 11509), (5089, 15319), (1789, 14970), (6861, 15187), (1992, 7295), (5086, 16093), (4380, 11148), (3125, 13343), (760, 15519), (11501, 13772), (81, 4654), (2294, 7117), (3510, 5226), (5945, 10145), (7007, 9649), (3408, 13812), (10163, 12027), (5254, 11988), (14257, 16225), (7773, 9639), (4046, 12390), (364, 15476), (1030, 13981), (549, 10723), (9555, 12618), (4758, 12863), (298, 10220), (1431, 1661), (14966, 15259), (10177, 14252), (6017, 8789), (1253, 5868), (9574, 14354), (10597, 14281), (11467, 11524), (7804, 7860), (1592, 7262), (7082, 9085), (3859, 8196), (5502, 6571), (5566, 9281), (13658, 13842), (1361, 4831), (15160, 15684), (11139, 13222), (12755, 15697), (3963, 10330), (995, 14912), (11232, 14140), (115, 7449), (5792, 15234), (1583, 7416), (1656, 4033), (9545, 11389), (4651, 14724), (666, 8373), (3280, 12417), (6718, 7709), (3781, 4755), (2382, 3863), (507, 1490), (5127, 10105), (13870, 14237), (10255, 13308), (9342, 13921), (1109, 12499), (254, 4124), (1016, 2533), (6362, 9586), (5318, 8709), (3311, 8543), (9797, 11674), (9445, 14039), (2992, 6800), (4960, 5466), (13264, 13831), (4398, 14849), (5672, 12195), (166, 14419), (3747, 11450), (7176, 12228), (2358, 8037), (600, 6903), (1699, 8680), (3100, 5204), (4021, 15224), (3794, 9940), (5201, 7654), (5623, 6870), (1867, 5619), (110, 10223), (196, 4483), (10104, 14284), (2471, 2577), (498, 12847), (6587, 12475), (897, 12267), (8550, 8567), (3110, 3188), (2343, 6446), (5135, 8040), (13980, 15111), (9581, 11053), (3467, 4954), (5256, 12093), (5348, 9027), (12376, 12666), (7688, 13562), (442, 2320), (163, 277), (4517, 14125), (9084, 16115), (3327, 6126), (4089, 5981), (8869, 10162), (1914, 8121), (4676, 13355), (11954, 12429), (3512, 6284), (9721, 16063), (7462, 8978), (529, 12576), (4493, 5235), (1106, 15314), (1064, 1594), (5197, 15229), (10067, 10357), (13925, 14732), (13291, 14346), (4127, 14207), (1707, 11248), (191, 748), (5212, 10567), (738, 1381), (3395, 8729), (11059, 14987), (8989, 9131), (3643, 5983), (4359, 11979), (2916, 14075), (3472, 15116), (7139, 9326), (8111, 16045), (88, 12312), (723, 6864), (6191, 8503), (1608, 6110), (3820, 6247), (9875, 15258), (9548, 11185), (2283, 5034), (538, 2803), (5399, 5735), (2870, 11362), (1251, 11930), (4411, 9609), (2353, 8399), (5658, 6598), (4954, 5515), (1885, 13504), (997, 9225), (2461, 3541), (9413, 9551), (1631, 9349), (2291, 3805), (5107, 11169), (11016, 13400), (4671, 6654), (9235, 13859), (1824, 7506), (4870, 8328), (2329, 10344), (4902, 13676), (1313, 13811), (7356, 10114), (12685, 13076), (2433, 15951), (3995, 15100), (8427, 13588), (3795, 4424), (7611, 11530), (7210, 9793), (12546, 12894), (9052, 9266), (15530, 16114), (9992, 12859), (13449, 15318), (9084, 11386), (757, 12668), (6086, 8583), (5140, 6450), (765, 4945), (1929, 13052), (5352, 8164), (5340, 8973), (841, 3527), (5384, 15853), (1320, 6653), (8221, 12946), (9076, 13074), (7090, 10279), (153, 11859), (11952, 15616), (5658, 15203), (5690, 6943), (6649, 12605), (271, 1872), (2168, 6202), (749, 6817), (362, 8139), (8527, 9507), (13710, 15794), (3339, 4555), (4363, 13785), (10226, 14202), (9494, 11257), (3995, 15382), (5725, 12567), (1658, 2179), (1589, 12233), (4070, 11697), (8773, 16121), (7673, 9094), (1773, 2213), (7107, 11393), (6867, 11974), (2735, 10530), (7971, 8567), (12001, 14928), (1800, 15120), (8042, 15437), (11431, 16105), (7971, 8872), (3899, 8706), (9096, 14463), (13666, 15195), (2296, 11801), (9234, 11692), (11358, 12836), (9937, 10838), (1363, 6511), (7469, 13381), (4286, 12594), (7730, 14631), (10770, 12872), (3618, 8523), (11006, 15239), (5715, 8416), (11802, 14833), (7218, 11768), (2108, 3511), (6463, 7516), (10303, 12416), (1881, 8585)]\n",
      "[0.749, 0.744, 0.744, 0.747, 0.744, 0.724, 0.743, 0.743, 0.743, 0.737, 0.733, 0.737, 0.741, 0.746, 0.744, 0.744, 0.746, 0.737, 0.737, 0.744, 0.717, 0.743, 0.744, 0.762, 0.743, 0.745, 0.741, 0.743, 0.761, 0.76, 0.768, 0.746, 0.744, 0.743, 0.744, 0.744, 0.782, 0.748, 0.744, 0.749, 0.744, 0.743, 0.744, 0.743, 0.747, 0.744, 0.727, 0.745, 0.746, 0.727, 0.784, 0.748, 0.723, 0.743, 0.731, 0.745, 0.744, 0.742, 0.748, 0.891, 0.784, 0.78, 0.752, 0.812, 0.743, 0.764, 0.743, 0.756, 0.81, 0.73, 0.74, 0.742, 0.745, 0.763, 0.743, 0.734, 0.743, 0.782, 0.741, 0.742, 0.743, 0.745, 0.721, 0.731, 0.753, 0.747, 0.743, 0.744, 0.738, 0.744, 0.759, 0.754, 0.756, 0.743, 0.768, 0.73, 0.741, 0.764, 0.743, 0.744, 0.753, 0.724, 0.751, 0.744, 0.76, 0.742, 0.74, 0.849, 0.758, 0.75, 0.744, 0.746, 0.665, 0.744, 0.744, 0.833, 0.755, 0.742, 0.779, 0.758, 0.741, 0.744, 0.745, 0.76, 0.753, 0.724, 0.749, 0.75, 0.733, 0.811, 0.744, 0.744, 0.736, 0.725, 0.734, 0.733, 0.752, 0.744, 0.563, 0.744, 0.847, 0.741, 0.744, 0.741, 0.75, 0.775, 0.747, 0.716, 0.748, 0.724, 0.744, 0.779, 0.747, 0.748, 0.739, 0.753, 0.801, 0.744, 0.744, 0.76, 0.747, 0.744, 0.741, 0.754, 0.744, 0.874, 0.744, 0.842, 0.758, 0.745, 0.753, 0.727, 0.743, 0.753, 0.745, 0.756, 0.729, 0.729, 0.752, 0.755, 0.744, 0.744, 0.745, 0.744, 0.744, 0.742, 0.752, 0.743, 0.852, 0.748, 0.738, 0.764, 0.744, 0.883, 0.741, 0.76, 0.759, 0.755, 0.711, 0.712, 0.745, 0.77, 0.724, 0.744, 0.744, 0.74, 0.742, 0.763, 0.721, 0.744, 0.875, 0.761, 0.756, 0.744, 0.744, 0.743, 0.744, 0.762, 0.736, 0.744, 0.741, 0.71, 0.744, 0.742, 0.734, 0.744, 0.744, 0.744, 0.744, 0.741, 0.716, 0.754, 0.744, 0.746, 0.744, 0.751, 0.73, 0.772, 0.82, 0.745, 0.753, 0.744, 0.751, 0.743, 0.743, 0.744, 0.744, 0.729, 0.742, 0.733, 0.763, 0.714, 0.851, 0.739, 0.814, 0.744, 0.748, 0.742, 0.791, 0.882, 0.724, 0.727, 0.744, 0.745, 0.765, 0.78, 0.773, 0.736, 0.783, 0.738, 0.735, 0.765, 0.741, 0.745, 0.717, 0.744, 0.878, 0.728, 0.762, 0.743, 0.745, 0.756, 0.723, 0.744, 0.72, 0.722, 0.741, 0.754, 0.77, 0.744, 0.812, 0.744, 0.763, 0.773, 0.744, 0.743, 0.747, 0.717, 0.744, 0.778, 0.747, 0.744, 0.747, 0.723, 0.728, 0.764, 0.744, 0.742, 0.742, 0.741, 0.744, 0.752, 0.724, 0.744, 0.742, 0.753, 0.752, 0.762, 0.726, 0.86, 0.742, 0.744, 0.745, 0.755, 0.722, 0.739, 0.775, 0.747, 0.746, 0.728, 0.741, 0.759, 0.75, 0.762, 0.718, 0.763, 0.744, 0.727, 0.752, 0.751, 0.802, 0.708, 0.844, 0.744, 0.744, 0.741, 0.742, 0.607, 0.744, 0.753, 0.721, 0.697, 0.744, 0.757, 0.742, 0.766, 0.742, 0.743, 0.737, 0.714, 0.763, 0.741, 0.731, 0.767, 0.705, 0.72, 0.772, 0.745, 0.717, 0.759, 0.744, 0.744, 0.756, 0.752, 0.734, 0.754, 0.855, 0.744, 0.742, 0.743, 0.722, 0.745, 0.743, 0.854, 0.809, 0.726, 0.741, 0.758, 0.768, 0.763, 0.76, 0.729, 0.744, 0.882, 0.742, 0.723, 0.758, 0.744, 0.728, 0.747, 0.745, 0.702, 0.744, 0.754, 0.746, 0.742, 0.742, 0.749, 0.742, 0.744, 0.745, 0.744, 0.843, 0.743, 0.745, 0.744, 0.743, 0.745, 0.72, 0.744, 0.75, 0.816, 0.744, 0.743, 0.745, 0.833, 0.748, 0.723, 0.742, 0.741, 0.741, 0.748, 0.725, 0.744, 0.733, 0.726, 0.743, 0.744, 0.746, 0.739, 0.758, 0.751, 0.745, 0.749, 0.742, 0.742, 0.752, 0.74, 0.73, 0.741, 0.676, 0.757, 0.765, 0.72, 0.737, 0.755, 0.744, 0.753, 0.764, 0.757, 0.738, 0.739, 0.734, 0.743, 0.763, 0.757, 0.749, 0.745, 0.804, 0.757, 0.741, 0.75, 0.742, 0.751, 0.76, 0.742, 0.743, 0.744, 0.852, 0.739, 0.748, 0.746, 0.747, 0.745, 0.744, 0.737, 0.712, 0.843, 0.741, 0.755, 0.743, 0.744, 0.747, 0.744, 0.741, 0.758, 0.739, 0.744, 0.75, 0.746, 0.748, 0.869, 0.758, 0.778, 0.762, 0.74, 0.744, 0.694, 0.744, 0.744, 0.743, 0.78, 0.741, 0.744, 0.753, 0.742, 0.755, 0.747, 0.742, 0.745, 0.763, 0.761, 0.744, 0.75, 0.741, 0.774, 0.744, 0.744, 0.744, 0.738, 0.799, 0.742, 0.804, 0.749, 0.756, 0.757, 0.763, 0.741, 0.799, 0.76, 0.747, 0.742, 0.828, 0.727, 0.743, 0.72, 0.744, 0.802, 0.725, 0.744, 0.757, 0.747, 0.743, 0.744, 0.704, 0.738, 0.725, 0.748, 0.752, 0.71, 0.744, 0.743, 0.757, 0.744, 0.751, 0.756, 0.744, 0.742, 0.72, 0.726, 0.796, 0.744, 0.746, 0.741, 0.76, 0.751, 0.744, 0.749, 0.836, 0.745, 0.744, 0.744, 0.745, 0.744, 0.753, 0.742, 0.758, 0.748, 0.743, 0.739, 0.741, 0.744, 0.744, 0.745, 0.755, 0.743, 0.743, 0.754, 0.744, 0.744, 0.728, 0.743, 0.726, 0.744, 0.742, 0.728, 0.745, 0.762, 0.744, 0.87, 0.741, 0.772, 0.759, 0.744, 0.745, 0.772, 0.756, 0.735, 0.746, 0.754, 0.744, 0.746, 0.754, 0.744, 0.744, 0.744, 0.759, 0.744, 0.744, 0.744, 0.738, 0.744, 0.747, 0.758, 0.744, 0.82, 0.753, 0.729, 0.749, 0.74, 0.741, 0.744, 0.756, 0.721, 0.751, 0.748, 0.744, 0.742, 0.743, 0.762, 0.742, 0.739, 0.736, 0.742, 0.721, 0.743, 0.756, 0.744, 0.729, 0.744, 0.739, 0.73, 0.839, 0.743, 0.736, 0.762, 0.771, 0.742, 0.751, 0.745, 0.738, 0.786, 0.723, 0.763, 0.821, 0.759, 0.747, 0.742, 0.744, 0.747, 0.825, 0.746, 0.733, 0.75, 0.759, 0.751, 0.744, 0.743, 0.762, 0.746, 0.763, 0.715, 0.726, 0.747, 0.829, 0.775, 0.744, 0.746, 0.74, 0.715, 0.81, 0.744, 0.744, 0.742, 0.753, 0.742, 0.849, 0.744, 0.743, 0.744, 0.753, 0.738, 0.744, 0.744, 0.743, 0.742, 0.841, 0.743, 0.737, 0.743, 0.721, 0.744, 0.723, 0.743, 0.762, 0.743, 0.753, 0.746, 0.743, 0.744, 0.762, 0.742, 0.741, 0.761, 0.75, 0.744, 0.731, 0.744, 0.748, 0.744, 0.743, 0.744, 0.743, 0.748, 0.746, 0.705, 0.763, 0.753, 0.757, 0.778, 0.757, 0.839, 0.739, 0.717, 0.804, 0.758, 0.74, 0.754, 0.744, 0.74, 0.741, 0.714, 0.741, 0.725, 0.724, 0.742, 0.723, 0.75, 0.744, 0.763, 0.739, 0.722, 0.74, 0.744, 0.745, 0.762, 0.741, 0.757, 0.754, 0.761, 0.744, 0.744, 0.759, 0.742, 0.745, 0.744, 0.744, 0.744, 0.754, 0.746, 0.754, 0.766, 0.744, 0.762, 0.765, 0.736, 0.754, 0.758, 0.75, 0.743, 0.732, 0.763, 0.716, 0.744, 0.744, 0.745, 0.744, 0.743, 0.746, 0.752, 0.744, 0.756, 0.744, 0.744, 0.739, 0.743, 0.748, 0.738, 0.746, 0.747, 0.744, 0.745, 0.742, 0.725, 0.673, 0.737, 0.737, 0.757, 0.762, 0.761, 0.745, 0.752, 0.744, 0.743, 0.744, 0.754, 0.712, 0.743, 0.761, 0.744, 0.731, 0.736, 0.753, 0.744, 0.744, 0.752, 0.741, 0.749, 0.743, 0.744, 0.723, 0.743, 0.743, 0.744, 0.744, 0.744, 0.722, 0.868, 0.745, 0.744, 0.743, 0.759, 0.724, 0.744, 0.745, 0.863, 0.742, 0.734, 0.744, 0.784, 0.744, 0.752, 0.744, 0.743, 0.74, 0.723, 0.762, 0.744, 0.743, 0.744, 0.748, 0.801, 0.744, 0.745, 0.727, 0.708, 0.736, 0.742, 0.863, 0.662, 0.762, 0.743, 0.757, 0.745, 0.801, 0.743, 0.746, 0.744, 0.744, 0.739, 0.762, 0.742, 0.758, 0.744, 0.744, 0.741, 0.761, 0.744, 0.744, 0.761, 0.745, 0.736, 0.757, 0.744, 0.751, 0.757, 0.743, 0.754, 0.726, 0.754, 0.741, 0.744, 0.817, 0.749, 0.747, 0.744, 0.747, 0.741, 0.744, 0.744, 0.741, 0.743, 0.739, 0.74, 0.753, 0.743, 0.744, 0.754, 0.747, 0.742, 0.744, 0.745, 0.807, 0.76, 0.744, 0.743, 0.741, 0.694, 0.789, 0.752, 0.744, 0.74, 0.745, 0.751, 0.763, 0.75, 0.743, 0.745, 0.744, 0.721, 0.765, 0.743, 0.763, 0.729, 0.744, 0.761, 0.73, 0.856, 0.743, 0.744, 0.743, 0.737, 0.749, 0.744, 0.768, 0.766, 0.786, 0.832, 0.743, 0.745, 0.755, 0.744, 0.745, 0.736, 0.749, 0.744, 0.759, 0.742, 0.72, 0.753, 0.752, 0.746, 0.806, 0.743, 0.772, 0.741, 0.745, 0.743, 0.742, 0.759]\n"
     ]
    }
   ],
   "source": [
    "indices = []\n",
    "accs = []\n",
    "\n",
    "try:\n",
    "    for i in range(1000):\n",
    "        first = rand.randint(0,16244)\n",
    "        second = rand.randint(0,16244)\n",
    "        \n",
    "        if first > second:\n",
    "            first, second = second, first\n",
    "        \n",
    "        ks_clf = ksClassifier(main_path = main_path, set_sample = True, sample_list = sample, \n",
    "                              compare_with_samples = False, samples_mean_path = mean_sample, shuffle = False, \n",
    "                              local_shuffle = False, buckets = 2, multi_shuffle = False, num_of_predictions = 20,\n",
    "                              area_shuffle = True, area = (first, second))\n",
    "            \n",
    "        pred = ks_clf.test(sample_path, number_of_samples)\n",
    "        ks_clf.stats(pred)\n",
    "        \n",
    "        indices.append((first, second))\n",
    "        accs.append(ks_clf.acc)\n",
    "        clear_output(wait=True)\n",
    "        \n",
    "except:\n",
    "    print(\"Error\")\n",
    "\n",
    "print(indices)\n",
    "print(accs)"
   ]
  },
  {
   "cell_type": "code",
   "execution_count": 160,
   "id": "5d6d7e27-923e-4ff6-9a47-e77959279952",
   "metadata": {
    "execution": {
     "iopub.execute_input": "2022-01-05T18:45:12.171135Z",
     "iopub.status.busy": "2022-01-05T18:45:12.170361Z",
     "iopub.status.idle": "2022-01-05T18:45:12.180601Z",
     "shell.execute_reply": "2022-01-05T18:45:12.178607Z",
     "shell.execute_reply.started": "2022-01-05T18:45:12.171058Z"
    },
    "tags": []
   },
   "outputs": [
    {
     "name": "stdout",
     "output_type": "stream",
     "text": [
      "0.891\n"
     ]
    }
   ],
   "source": [
    "print(max(accs))"
   ]
  },
  {
   "cell_type": "code",
   "execution_count": 159,
   "id": "15c277cd-4bad-4845-97ad-a149186a3621",
   "metadata": {
    "execution": {
     "iopub.execute_input": "2022-01-05T18:45:10.606495Z",
     "iopub.status.busy": "2022-01-05T18:45:10.604294Z",
     "iopub.status.idle": "2022-01-05T18:45:10.639329Z",
     "shell.execute_reply": "2022-01-05T18:45:10.636393Z",
     "shell.execute_reply.started": "2022-01-05T18:45:10.606371Z"
    },
    "tags": []
   },
   "outputs": [
    {
     "data": {
      "text/plain": [
       "59"
      ]
     },
     "execution_count": 159,
     "metadata": {},
     "output_type": "execute_result"
    }
   ],
   "source": [
    "accs.index(max(accs))"
   ]
  },
  {
   "cell_type": "code",
   "execution_count": 161,
   "id": "6b3913e9-8fe8-4234-8258-69ad528080b7",
   "metadata": {
    "execution": {
     "iopub.execute_input": "2022-01-05T18:45:21.416797Z",
     "iopub.status.busy": "2022-01-05T18:45:21.416332Z",
     "iopub.status.idle": "2022-01-05T18:45:21.427765Z",
     "shell.execute_reply": "2022-01-05T18:45:21.426663Z",
     "shell.execute_reply.started": "2022-01-05T18:45:21.416755Z"
    },
    "tags": []
   },
   "outputs": [
    {
     "data": {
      "text/plain": [
       "(1169, 16217)"
      ]
     },
     "execution_count": 161,
     "metadata": {},
     "output_type": "execute_result"
    }
   ],
   "source": [
    "indices[59]"
   ]
  },
  {
   "cell_type": "markdown",
   "id": "e5d6677c-2da7-4963-91c7-12e392d8537c",
   "metadata": {},
   "source": [
    "## Find best bucket for local_shuffle"
   ]
  },
  {
   "cell_type": "code",
   "execution_count": 9,
   "id": "0f6965b2-3866-4c47-a95c-36e5620b92b7",
   "metadata": {
    "execution": {
     "iopub.execute_input": "2022-01-11T13:51:51.558267Z",
     "iopub.status.busy": "2022-01-11T13:51:51.556882Z",
     "iopub.status.idle": "2022-01-11T13:52:00.594417Z",
     "shell.execute_reply": "2022-01-11T13:52:00.593670Z",
     "shell.execute_reply.started": "2022-01-11T13:51:51.558147Z"
    },
    "tags": []
   },
   "outputs": [],
   "source": [
    "ks_clf = ksClassifier(main_path = main_path, create_sample = True)\n",
    "number_of_samples = 500\n",
    "#create the sample\n",
    "sample_for_local = ks_clf.test(sample_path, number_of_samples)"
   ]
  },
  {
   "cell_type": "code",
   "execution_count": 10,
   "id": "38d13b75-d131-4613-bd38-0b8ec3a58a00",
   "metadata": {
    "execution": {
     "iopub.execute_input": "2022-01-11T13:52:00.596454Z",
     "iopub.status.busy": "2022-01-11T13:52:00.596262Z",
     "iopub.status.idle": "2022-01-11T13:59:55.791222Z",
     "shell.execute_reply": "2022-01-11T13:59:55.790724Z",
     "shell.execute_reply.started": "2022-01-11T13:52:00.596433Z"
    },
    "tags": []
   },
   "outputs": [
    {
     "name": "stdout",
     "output_type": "stream",
     "text": [
      "[0.808, 0.852, 0.828, 0.802, 0.772, 0.76, 0.754, 0.74, 0.744, 0.75, 0.726, 0.744, 0.75]\n"
     ]
    }
   ],
   "source": [
    "buckets_result = []\n",
    "try:\n",
    "    for i in range(13):\n",
    "        ks_clf = ksClassifier(main_path = main_path, set_sample = True, sample_list = sample_for_local, \n",
    "                              compare_with_samples = False, samples_mean_path = mean_sample, shuffle = False, \n",
    "                              local_shuffle = True, buckets = i+1, multi_shuffle = False, num_of_predictions = 20,\n",
    "                              area_shuffle = False, area = (0, 16244))\n",
    "            \n",
    "        pred = ks_clf.test(sample_path, number_of_samples)\n",
    "        ks_clf.stats(pred)\n",
    "        \n",
    "        buckets_result.append(ks_clf.acc)\n",
    "        clear_output(wait=True)\n",
    "        \n",
    "except:\n",
    "    print(\"Error\")\n",
    "\n",
    "print(buckets_result)"
   ]
  },
  {
   "cell_type": "code",
   "execution_count": 15,
   "id": "2b838f46-07d7-4cd2-ac53-371816c7c3a9",
   "metadata": {
    "execution": {
     "iopub.execute_input": "2022-01-11T14:17:33.112710Z",
     "iopub.status.busy": "2022-01-11T14:17:33.111952Z",
     "iopub.status.idle": "2022-01-11T14:17:33.329249Z",
     "shell.execute_reply": "2022-01-11T14:17:33.328848Z",
     "shell.execute_reply.started": "2022-01-11T14:17:33.112634Z"
    },
    "tags": []
   },
   "outputs": [
    {
     "data": {
      "image/png": "[encoded data removed]",
      "text/plain": [
       "<Figure size 1008x720 with 1 Axes>"
      ]
     },
     "metadata": {
      "needs_background": "light"
     },
     "output_type": "display_data"
    }
   ],
   "source": [
    "from matplotlib.figure import Figure\n",
    "from matplotlib.ticker import MaxNLocator\n",
    "\n",
    "x = np.array([i for i in range(len(buckets_result))])\n",
    "#print(x+1)\n",
    "ax = plt.figure(figsize=(14,10)).gca()\n",
    "ax.xaxis.set_major_locator(MaxNLocator(integer=True))\n",
    "\n",
    "plt.plot(x+1, np.array(buckets_result)*100)\n",
    "plt.xticks(x+1)\n",
    "ax.set_title(\"Accuracy von local_shuffle mit unterschiedlichen Unterteilungen\", fontsize=20)\n",
    "ax.set_xlabel(\"Parts\", fontsize=14)\n",
    "ax.set_ylabel(\"Accuracy in %\", fontsize=14)\n",
    "plt.savefig(\"example.jpg\")\n",
    "plt.show()\n",
    "\n",
    "#sns.lineplot(x = x+1, y = buckets_result)"
   ]
  },
  {
   "cell_type": "code",
   "execution_count": 12,
   "id": "a85004d6-3c02-4e0a-9a8c-e35681f2287e",
   "metadata": {
    "execution": {
     "iopub.execute_input": "2022-01-11T14:00:35.513142Z",
     "iopub.status.busy": "2022-01-11T14:00:35.511990Z",
     "iopub.status.idle": "2022-01-11T14:00:35.532086Z",
     "shell.execute_reply": "2022-01-11T14:00:35.531560Z",
     "shell.execute_reply.started": "2022-01-11T14:00:35.513078Z"
    },
    "tags": []
   },
   "outputs": [
    {
     "data": {
      "text/plain": [
       "[0.808,\n",
       " 0.852,\n",
       " 0.828,\n",
       " 0.802,\n",
       " 0.772,\n",
       " 0.76,\n",
       " 0.754,\n",
       " 0.74,\n",
       " 0.744,\n",
       " 0.75,\n",
       " 0.726,\n",
       " 0.744,\n",
       " 0.75]"
      ]
     },
     "execution_count": 12,
     "metadata": {},
     "output_type": "execute_result"
    }
   ],
   "source": [
    "buckets_result"
   ]
  },
  {
   "cell_type": "code",
   "execution_count": 17,
   "id": "e5295ec7-1e73-495d-93a8-a72a392c9127",
   "metadata": {
    "execution": {
     "iopub.execute_input": "2022-01-12T15:20:55.951114Z",
     "iopub.status.busy": "2022-01-12T15:20:55.950341Z",
     "iopub.status.idle": "2022-01-12T15:20:55.982936Z",
     "shell.execute_reply": "2022-01-12T15:20:55.981857Z",
     "shell.execute_reply.started": "2022-01-12T15:20:55.951034Z"
    },
    "tags": []
   },
   "outputs": [
    {
     "data": {
      "text/plain": [
       "array([1, 2, 3, 4, 1, 3, 5, 7, 8])"
      ]
     },
     "execution_count": 17,
     "metadata": {},
     "output_type": "execute_result"
    }
   ],
   "source": [
    "np.concatenate(([1,2,3,4],[1,3,5,7,8]))"
   ]
  },
  {
   "cell_type": "code",
   "execution_count": 35,
   "id": "49eae751-9f84-444d-85ba-b715afaedbeb",
   "metadata": {
    "execution": {
     "iopub.execute_input": "2022-01-12T15:24:13.858979Z",
     "iopub.status.busy": "2022-01-12T15:24:13.858151Z",
     "iopub.status.idle": "2022-01-12T15:24:14.269694Z",
     "shell.execute_reply": "2022-01-12T15:24:14.269181Z",
     "shell.execute_reply.started": "2022-01-12T15:24:13.858913Z"
    },
    "tags": []
   },
   "outputs": [],
   "source": [
    "arr1 = [i for i in range(4000000)]\n",
    "arr2 = [i for i in range(4000000)]"
   ]
  },
  {
   "cell_type": "code",
   "execution_count": 36,
   "id": "fe2b5832-1377-4698-8d17-cedff66c199b",
   "metadata": {
    "execution": {
     "iopub.execute_input": "2022-01-12T15:24:15.135918Z",
     "iopub.status.busy": "2022-01-12T15:24:15.135468Z",
     "iopub.status.idle": "2022-01-12T15:24:15.656415Z",
     "shell.execute_reply": "2022-01-12T15:24:15.655926Z",
     "shell.execute_reply.started": "2022-01-12T15:24:15.135877Z"
    },
    "tags": []
   },
   "outputs": [
    {
     "data": {
      "text/plain": [
       "array([      0,       1,       2, ..., 3999997, 3999998, 3999999])"
      ]
     },
     "execution_count": 36,
     "metadata": {},
     "output_type": "execute_result"
    }
   ],
   "source": [
    "np.concatenate([arr1, arr2])"
   ]
  },
  {
   "cell_type": "code",
   "execution_count": 37,
   "id": "1689e835-f93e-447b-9cec-dbc80548a9de",
   "metadata": {
    "execution": {
     "iopub.execute_input": "2022-01-12T15:24:19.683785Z",
     "iopub.status.busy": "2022-01-12T15:24:19.683012Z",
     "iopub.status.idle": "2022-01-12T15:24:19.692011Z",
     "shell.execute_reply": "2022-01-12T15:24:19.690797Z",
     "shell.execute_reply.started": "2022-01-12T15:24:19.683706Z"
    },
    "tags": []
   },
   "outputs": [],
   "source": [
    "arr1.append(arr2)"
   ]
  },
  {
   "cell_type": "code",
   "execution_count": null,
   "id": "364392a2-d54b-4aad-b16f-8e99d657b090",
   "metadata": {},
   "outputs": [],
   "source": []
  }
 ],
 "metadata": {
  "kernelspec": {
   "display_name": "Python 3 (ipykernel)",
   "language": "python",
   "name": "python3"
  },
  "language_info": {
   "codemirror_mode": {
    "name": "ipython",
    "version": 3
   },
   "file_extension": ".py",
   "mimetype": "text/x-python",
   "name": "python",
   "nbconvert_exporter": "python",
   "pygments_lexer": "ipython3",
   "version": "3.9.10"
  }
 },
 "nbformat": 4,
 "nbformat_minor": 5
}
